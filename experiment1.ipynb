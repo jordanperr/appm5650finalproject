{
 "cells": [
  {
   "cell_type": "markdown",
   "metadata": {},
   "source": [
    "# Analyse output data from experiment1.csv"
   ]
  },
  {
   "cell_type": "code",
   "execution_count": 12,
   "metadata": {},
   "outputs": [],
   "source": [
    "import pandas as pd\n",
    "import seaborn as sns\n",
    "import matplotlib.pyplot as plt"
   ]
  },
  {
   "cell_type": "code",
   "execution_count": 16,
   "metadata": {},
   "outputs": [
    {
     "data": {
      "text/html": [
       "<div>\n",
       "<style scoped>\n",
       "    .dataframe tbody tr th:only-of-type {\n",
       "        vertical-align: middle;\n",
       "    }\n",
       "\n",
       "    .dataframe tbody tr th {\n",
       "        vertical-align: top;\n",
       "    }\n",
       "\n",
       "    .dataframe thead th {\n",
       "        text-align: right;\n",
       "    }\n",
       "</style>\n",
       "<table border=\"1\" class=\"dataframe\">\n",
       "  <thead>\n",
       "    <tr style=\"text-align: right;\">\n",
       "      <th></th>\n",
       "      <th>num_sim</th>\n",
       "      <th>regression_frac</th>\n",
       "      <th>qmc</th>\n",
       "      <th>repetition</th>\n",
       "      <th>time</th>\n",
       "      <th>AEP mean</th>\n",
       "      <th>AEP stdev</th>\n",
       "    </tr>\n",
       "  </thead>\n",
       "  <tbody>\n",
       "    <tr>\n",
       "      <th>0</th>\n",
       "      <td>128</td>\n",
       "      <td>0.5</td>\n",
       "      <td>False</td>\n",
       "      <td>3</td>\n",
       "      <td>1.864631</td>\n",
       "      <td>12.487181</td>\n",
       "      <td>1.157590</td>\n",
       "    </tr>\n",
       "    <tr>\n",
       "      <th>1</th>\n",
       "      <td>128</td>\n",
       "      <td>0.5</td>\n",
       "      <td>False</td>\n",
       "      <td>0</td>\n",
       "      <td>1.890075</td>\n",
       "      <td>12.371409</td>\n",
       "      <td>1.189557</td>\n",
       "    </tr>\n",
       "    <tr>\n",
       "      <th>2</th>\n",
       "      <td>128</td>\n",
       "      <td>0.5</td>\n",
       "      <td>False</td>\n",
       "      <td>5</td>\n",
       "      <td>1.890182</td>\n",
       "      <td>12.347985</td>\n",
       "      <td>1.084048</td>\n",
       "    </tr>\n",
       "    <tr>\n",
       "      <th>3</th>\n",
       "      <td>128</td>\n",
       "      <td>0.5</td>\n",
       "      <td>False</td>\n",
       "      <td>2</td>\n",
       "      <td>1.903445</td>\n",
       "      <td>12.281980</td>\n",
       "      <td>1.204303</td>\n",
       "    </tr>\n",
       "    <tr>\n",
       "      <th>4</th>\n",
       "      <td>128</td>\n",
       "      <td>0.5</td>\n",
       "      <td>False</td>\n",
       "      <td>4</td>\n",
       "      <td>1.904659</td>\n",
       "      <td>12.237749</td>\n",
       "      <td>1.198143</td>\n",
       "    </tr>\n",
       "    <tr>\n",
       "      <th>...</th>\n",
       "      <td>...</td>\n",
       "      <td>...</td>\n",
       "      <td>...</td>\n",
       "      <td>...</td>\n",
       "      <td>...</td>\n",
       "      <td>...</td>\n",
       "      <td>...</td>\n",
       "    </tr>\n",
       "    <tr>\n",
       "      <th>535</th>\n",
       "      <td>512</td>\n",
       "      <td>1.0</td>\n",
       "      <td>True</td>\n",
       "      <td>25</td>\n",
       "      <td>8.840510</td>\n",
       "      <td>12.416494</td>\n",
       "      <td>1.103503</td>\n",
       "    </tr>\n",
       "    <tr>\n",
       "      <th>536</th>\n",
       "      <td>512</td>\n",
       "      <td>1.0</td>\n",
       "      <td>True</td>\n",
       "      <td>26</td>\n",
       "      <td>8.839862</td>\n",
       "      <td>12.317947</td>\n",
       "      <td>1.047215</td>\n",
       "    </tr>\n",
       "    <tr>\n",
       "      <th>537</th>\n",
       "      <td>512</td>\n",
       "      <td>1.0</td>\n",
       "      <td>True</td>\n",
       "      <td>27</td>\n",
       "      <td>8.820626</td>\n",
       "      <td>12.287360</td>\n",
       "      <td>1.067897</td>\n",
       "    </tr>\n",
       "    <tr>\n",
       "      <th>538</th>\n",
       "      <td>512</td>\n",
       "      <td>1.0</td>\n",
       "      <td>True</td>\n",
       "      <td>28</td>\n",
       "      <td>8.759556</td>\n",
       "      <td>12.278430</td>\n",
       "      <td>1.060310</td>\n",
       "    </tr>\n",
       "    <tr>\n",
       "      <th>539</th>\n",
       "      <td>512</td>\n",
       "      <td>1.0</td>\n",
       "      <td>True</td>\n",
       "      <td>29</td>\n",
       "      <td>8.785156</td>\n",
       "      <td>12.307563</td>\n",
       "      <td>1.066825</td>\n",
       "    </tr>\n",
       "  </tbody>\n",
       "</table>\n",
       "<p>540 rows × 7 columns</p>\n",
       "</div>"
      ],
      "text/plain": [
       "     num_sim  regression_frac    qmc  repetition      time   AEP mean  \\\n",
       "0        128              0.5  False           3  1.864631  12.487181   \n",
       "1        128              0.5  False           0  1.890075  12.371409   \n",
       "2        128              0.5  False           5  1.890182  12.347985   \n",
       "3        128              0.5  False           2  1.903445  12.281980   \n",
       "4        128              0.5  False           4  1.904659  12.237749   \n",
       "..       ...              ...    ...         ...       ...        ...   \n",
       "535      512              1.0   True          25  8.840510  12.416494   \n",
       "536      512              1.0   True          26  8.839862  12.317947   \n",
       "537      512              1.0   True          27  8.820626  12.287360   \n",
       "538      512              1.0   True          28  8.759556  12.278430   \n",
       "539      512              1.0   True          29  8.785156  12.307563   \n",
       "\n",
       "     AEP stdev  \n",
       "0     1.157590  \n",
       "1     1.189557  \n",
       "2     1.084048  \n",
       "3     1.204303  \n",
       "4     1.198143  \n",
       "..         ...  \n",
       "535   1.103503  \n",
       "536   1.047215  \n",
       "537   1.067897  \n",
       "538   1.060310  \n",
       "539   1.066825  \n",
       "\n",
       "[540 rows x 7 columns]"
      ]
     },
     "execution_count": 16,
     "metadata": {},
     "output_type": "execute_result"
    }
   ],
   "source": [
    "df = pd.read_csv(\"experiment1.csv\")\n",
    "df"
   ]
  },
  {
   "cell_type": "code",
   "execution_count": 17,
   "metadata": {},
   "outputs": [
    {
     "data": {
      "text/plain": [
       "<seaborn.axisgrid.FacetGrid at 0x7fe8f1ac9e90>"
      ]
     },
     "execution_count": 17,
     "metadata": {},
     "output_type": "execute_result"
    },
    {
     "data": {
      "text/plain": [
       "<Figure size 800x300 with 0 Axes>"
      ]
     },
     "metadata": {},
     "output_type": "display_data"
    },
    {
     "data": {
      "image/png": "[encoded data removed]",
      "text/plain": [
       "<Figure size 709.25x648 with 9 Axes>"
      ]
     },
     "metadata": {
      "needs_background": "light"
     },
     "output_type": "display_data"
    }
   ],
   "source": [
    "plt.figure(figsize=(8,3),dpi=100)\n",
    "\n",
    "g = sns.FacetGrid(data=df, row=\"num_sim\", col=\"regression_frac\", hue=\"qmc\")\n",
    "g.map(sns.histplot, \"AEP mean\")\n",
    "g.add_legend()\n"
   ]
  },
  {
   "cell_type": "code",
   "execution_count": 15,
   "metadata": {},
   "outputs": [
    {
     "name": "stdout",
     "output_type": "stream",
     "text": [
      "(60, 7)\n"
     ]
    },
    {
     "data": {
      "text/plain": [
       "Text(0.5, 1.0, 'Time')"
      ]
     },
     "execution_count": 15,
     "metadata": {},
     "output_type": "execute_result"
    },
    {
     "data": {
      "image/png": "[encoded data removed]",
      "text/plain": [
       "<Figure size 800x300 with 3 Axes>"
      ]
     },
     "metadata": {
      "needs_background": "light"
     },
     "output_type": "display_data"
    }
   ],
   "source": [
    "subdf = df.query(\"regression_frac==1.0 & num_sim==128\")\n",
    "print(subdf.shape)\n",
    "plt.figure(figsize=(8,3),dpi=100)\n",
    "\n",
    "plt.subplot(1,3,1)\n",
    "sns.histplot(data=subdf, x=\"AEP mean\", hue=\"qmc\")\n",
    "plt.title(\"AEP Mean\")\n",
    "\n",
    "plt.subplot(1,3,2)\n",
    "sns.histplot(data=subdf, x=\"AEP stdev\", hue=\"qmc\")\n",
    "plt.title(\"AEP Stdev\")\n",
    "\n",
    "plt.subplot(1,3,3)\n",
    "sns.histplot(data=subdf, x=\"time\", hue=\"qmc\")\n",
    "plt.title(\"Time\")"
   ]
  },
  {
   "cell_type": "code",
   "execution_count": null,
   "metadata": {},
   "outputs": [],
   "source": []
  }
 ],
 "metadata": {
  "interpreter": {
   "hash": "2739bab8a45a7399ddf8978703b03c3f3e52411d910953e7fb98803a2a87f23c"
  },
  "kernelspec": {
   "display_name": "Python 3.7.9 64-bit ('base': conda)",
   "language": "python",
   "name": "python3"
  },
  "language_info": {
   "codemirror_mode": {
    "name": "ipython",
    "version": 3
   },
   "file_extension": ".py",
   "mimetype": "text/x-python",
   "name": "python",
   "nbconvert_exporter": "python",
   "pygments_lexer": "ipython3",
   "version": "3.7.9"
  },
  "orig_nbformat": 4
 },
 "nbformat": 4,
 "nbformat_minor": 2
}
