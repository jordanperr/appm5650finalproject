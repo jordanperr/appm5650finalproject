{
 "cells": [
  {
   "cell_type": "code",
   "execution_count": 1,
   "metadata": {},
   "outputs": [],
   "source": [
    "import pandas as pd\n",
    "\n",
    "import itertools\n",
    "\n",
    "import time\n",
    "\n",
    "import seaborn as sns\n",
    "\n",
    "import matplotlib.pyplot as plt\n",
    "\n",
    "from multiprocessing import Pool\n",
    "import os\n",
    "import tqdm"
   ]
  },
  {
   "cell_type": "code",
   "execution_count": 13,
   "metadata": {},
   "outputs": [],
   "source": [
    "df = pd.read_csv(\"experiment1.csv\")"
   ]
  },
  {
   "cell_type": "code",
   "execution_count": 21,
   "metadata": {},
   "outputs": [
    {
     "data": {
      "text/html": [
       "<div>\n",
       "<style scoped>\n",
       "    .dataframe tbody tr th:only-of-type {\n",
       "        vertical-align: middle;\n",
       "    }\n",
       "\n",
       "    .dataframe tbody tr th {\n",
       "        vertical-align: top;\n",
       "    }\n",
       "\n",
       "    .dataframe thead th {\n",
       "        text-align: right;\n",
       "    }\n",
       "</style>\n",
       "<table border=\"1\" class=\"dataframe\">\n",
       "  <thead>\n",
       "    <tr style=\"text-align: right;\">\n",
       "      <th></th>\n",
       "      <th>num_sim</th>\n",
       "      <th>regression_frac</th>\n",
       "      <th>qmc</th>\n",
       "      <th>repetition</th>\n",
       "      <th>time</th>\n",
       "      <th>AEP mean</th>\n",
       "      <th>AEP stdev</th>\n",
       "    </tr>\n",
       "  </thead>\n",
       "  <tbody>\n",
       "    <tr>\n",
       "      <th>0</th>\n",
       "      <td>128</td>\n",
       "      <td>0.5</td>\n",
       "      <td>False</td>\n",
       "      <td>4</td>\n",
       "      <td>1.998089</td>\n",
       "      <td>12.306220</td>\n",
       "      <td>1.124900</td>\n",
       "    </tr>\n",
       "    <tr>\n",
       "      <th>1</th>\n",
       "      <td>128</td>\n",
       "      <td>0.5</td>\n",
       "      <td>False</td>\n",
       "      <td>5</td>\n",
       "      <td>2.025809</td>\n",
       "      <td>12.306220</td>\n",
       "      <td>1.124900</td>\n",
       "    </tr>\n",
       "    <tr>\n",
       "      <th>2</th>\n",
       "      <td>128</td>\n",
       "      <td>0.5</td>\n",
       "      <td>False</td>\n",
       "      <td>3</td>\n",
       "      <td>2.029269</td>\n",
       "      <td>12.306220</td>\n",
       "      <td>1.124900</td>\n",
       "    </tr>\n",
       "    <tr>\n",
       "      <th>3</th>\n",
       "      <td>128</td>\n",
       "      <td>0.5</td>\n",
       "      <td>False</td>\n",
       "      <td>0</td>\n",
       "      <td>2.030727</td>\n",
       "      <td>12.306220</td>\n",
       "      <td>1.124900</td>\n",
       "    </tr>\n",
       "    <tr>\n",
       "      <th>4</th>\n",
       "      <td>128</td>\n",
       "      <td>0.5</td>\n",
       "      <td>False</td>\n",
       "      <td>2</td>\n",
       "      <td>2.031992</td>\n",
       "      <td>12.306220</td>\n",
       "      <td>1.124900</td>\n",
       "    </tr>\n",
       "    <tr>\n",
       "      <th>...</th>\n",
       "      <td>...</td>\n",
       "      <td>...</td>\n",
       "      <td>...</td>\n",
       "      <td>...</td>\n",
       "      <td>...</td>\n",
       "      <td>...</td>\n",
       "      <td>...</td>\n",
       "    </tr>\n",
       "    <tr>\n",
       "      <th>535</th>\n",
       "      <td>512</td>\n",
       "      <td>1.0</td>\n",
       "      <td>True</td>\n",
       "      <td>25</td>\n",
       "      <td>7.127074</td>\n",
       "      <td>12.401234</td>\n",
       "      <td>1.366849</td>\n",
       "    </tr>\n",
       "    <tr>\n",
       "      <th>536</th>\n",
       "      <td>512</td>\n",
       "      <td>1.0</td>\n",
       "      <td>True</td>\n",
       "      <td>26</td>\n",
       "      <td>7.036471</td>\n",
       "      <td>12.400076</td>\n",
       "      <td>1.376217</td>\n",
       "    </tr>\n",
       "    <tr>\n",
       "      <th>537</th>\n",
       "      <td>512</td>\n",
       "      <td>1.0</td>\n",
       "      <td>True</td>\n",
       "      <td>27</td>\n",
       "      <td>7.018496</td>\n",
       "      <td>12.402645</td>\n",
       "      <td>1.395391</td>\n",
       "    </tr>\n",
       "    <tr>\n",
       "      <th>538</th>\n",
       "      <td>512</td>\n",
       "      <td>1.0</td>\n",
       "      <td>True</td>\n",
       "      <td>28</td>\n",
       "      <td>6.891035</td>\n",
       "      <td>12.401622</td>\n",
       "      <td>1.387240</td>\n",
       "    </tr>\n",
       "    <tr>\n",
       "      <th>539</th>\n",
       "      <td>512</td>\n",
       "      <td>1.0</td>\n",
       "      <td>True</td>\n",
       "      <td>29</td>\n",
       "      <td>6.475386</td>\n",
       "      <td>12.399590</td>\n",
       "      <td>1.364079</td>\n",
       "    </tr>\n",
       "  </tbody>\n",
       "</table>\n",
       "<p>540 rows × 7 columns</p>\n",
       "</div>"
      ],
      "text/plain": [
       "     num_sim  regression_frac    qmc  repetition      time   AEP mean  \\\n",
       "0        128              0.5  False           4  1.998089  12.306220   \n",
       "1        128              0.5  False           5  2.025809  12.306220   \n",
       "2        128              0.5  False           3  2.029269  12.306220   \n",
       "3        128              0.5  False           0  2.030727  12.306220   \n",
       "4        128              0.5  False           2  2.031992  12.306220   \n",
       "..       ...              ...    ...         ...       ...        ...   \n",
       "535      512              1.0   True          25  7.127074  12.401234   \n",
       "536      512              1.0   True          26  7.036471  12.400076   \n",
       "537      512              1.0   True          27  7.018496  12.402645   \n",
       "538      512              1.0   True          28  6.891035  12.401622   \n",
       "539      512              1.0   True          29  6.475386  12.399590   \n",
       "\n",
       "     AEP stdev  \n",
       "0     1.124900  \n",
       "1     1.124900  \n",
       "2     1.124900  \n",
       "3     1.124900  \n",
       "4     1.124900  \n",
       "..         ...  \n",
       "535   1.366849  \n",
       "536   1.376217  \n",
       "537   1.395391  \n",
       "538   1.387240  \n",
       "539   1.364079  \n",
       "\n",
       "[540 rows x 7 columns]"
      ]
     },
     "execution_count": 21,
     "metadata": {},
     "output_type": "execute_result"
    }
   ],
   "source": [
    "df"
   ]
  },
  {
   "cell_type": "code",
   "execution_count": 26,
   "metadata": {},
   "outputs": [
    {
     "data": {
      "text/plain": [
       "<seaborn.axisgrid.FacetGrid at 0x7faa0936cf10>"
      ]
     },
     "execution_count": 26,
     "metadata": {},
     "output_type": "execute_result"
    },
    {
     "data": {
      "text/plain": [
       "<Figure size 800x300 with 0 Axes>"
      ]
     },
     "metadata": {},
     "output_type": "display_data"
    },
    {
     "data": {
      "image/png": "[encoded data removed]",
      "text/plain": [
       "<Figure size 648x648 with 9 Axes>"
      ]
     },
     "metadata": {
      "needs_background": "light"
     },
     "output_type": "display_data"
    }
   ],
   "source": [
    "plt.figure(figsize=(8,3),dpi=100)\n",
    "\n",
    "g = sns.FacetGrid(data=df, row=\"num_sim\", col=\"regression_frac\", hue=\"qmc\")\n",
    "g.map(sns.histplot, \"AEP mean\")\n"
   ]
  },
  {
   "cell_type": "code",
   "execution_count": 29,
   "metadata": {},
   "outputs": [
    {
     "name": "stdout",
     "output_type": "stream",
     "text": [
      "(60, 7)\n"
     ]
    },
    {
     "data": {
      "text/plain": [
       "Text(0.5, 1.0, 'Time')"
      ]
     },
     "execution_count": 29,
     "metadata": {},
     "output_type": "execute_result"
    },
    {
     "data": {
      "image/png": "[encoded data removed]",
      "text/plain": [
       "<Figure size 800x300 with 3 Axes>"
      ]
     },
     "metadata": {
      "needs_background": "light"
     },
     "output_type": "display_data"
    }
   ],
   "source": [
    "subdf = df.query(\"regression_frac==1.0 & num_sim==128\")\n",
    "print(subdf.shape)\n",
    "plt.figure(figsize=(8,3),dpi=100)\n",
    "\n",
    "plt.subplot(1,3,1)\n",
    "sns.histplot(data=subdf, x=\"AEP mean\", hue=\"qmc\")\n",
    "plt.title(\"AEP Mean\")\n",
    "\n",
    "plt.subplot(1,3,2)\n",
    "sns.histplot(data=subdf, x=\"AEP stdev\", hue=\"qmc\")\n",
    "plt.title(\"AEP Stdev\")\n",
    "\n",
    "plt.subplot(1,3,3)\n",
    "sns.histplot(data=subdf, x=\"time\", hue=\"qmc\")\n",
    "plt.title(\"Time\")"
   ]
  },
  {
   "cell_type": "code",
   "execution_count": null,
   "metadata": {},
   "outputs": [],
   "source": []
  }
 ],
 "metadata": {
  "interpreter": {
   "hash": "2739bab8a45a7399ddf8978703b03c3f3e52411d910953e7fb98803a2a87f23c"
  },
  "kernelspec": {
   "display_name": "Python 3.7.9 64-bit ('base': conda)",
   "language": "python",
   "name": "python3"
  },
  "language_info": {
   "codemirror_mode": {
    "name": "ipython",
    "version": 3
   },
   "file_extension": ".py",
   "mimetype": "text/x-python",
   "name": "python",
   "nbconvert_exporter": "python",
   "pygments_lexer": "ipython3",
   "version": "3.7.9"
  },
  "orig_nbformat": 4
 },
 "nbformat": 4,
 "nbformat_minor": 2
}
