{
 "cells": [
  {
   "cell_type": "code",
   "execution_count": 1,
   "metadata": {},
   "outputs": [],
   "source": [
    "import numpy as np\n",
    "import scipy as sp\n",
    "import pandas as pd\n",
    "import matplotlib.pyplot as plt "
   ]
  },
  {
   "cell_type": "code",
   "execution_count": 2,
   "metadata": {},
   "outputs": [],
   "source": [
    "rng =  np.random.default_rng()"
   ]
  },
  {
   "cell_type": "markdown",
   "metadata": {},
   "source": [
    "# Exploring smaller bootstrap samples"
   ]
  },
  {
   "cell_type": "code",
   "execution_count": 5,
   "metadata": {},
   "outputs": [
    {
     "data": {
      "image/png": "[encoded data removed]",
      "text/plain": [
       "<Figure size 432x288 with 1 Axes>"
      ]
     },
     "metadata": {
      "needs_background": "light"
     },
     "output_type": "display_data"
    },
    {
     "data": {
      "image/png": "[encoded data removed]",
      "text/plain": [
       "<Figure size 432x288 with 1 Axes>"
      ]
     },
     "metadata": {
      "needs_background": "light"
     },
     "output_type": "display_data"
    }
   ],
   "source": [
    "\n",
    "N_pop = 1000000\n",
    "N_samp = 1000\n",
    "N_repetitions = 10\n",
    "\n",
    "data = rng.normal(size=N_pop)\n",
    "\n",
    "subsamples = (\n",
    "    (rng.choice(data, size=N_samp, replace=True))\n",
    "    for i in range(N_repetitions))\n",
    "results = [(np.var(x), np.mean(x)) for x in subsamples]\n",
    "vars, means = list(zip(*results))\n",
    "\n",
    "plt.hist(vars)\n",
    "plt.axvline(np.mean(vars), c=\"green\")\n",
    "plt.axvline(np.var(data), c=\"red\")\n",
    "plt.title(\"Variance\")\n",
    "plt.show()\n",
    "\n",
    "plt.hist(means)\n",
    "plt.axvline(np.mean(means), c=\"green\")\n",
    "plt.axvline(np.mean(data), c=\"red\")\n",
    "plt.title(\"Mean\")\n",
    "plt.show()"
   ]
  },
  {
   "cell_type": "code",
   "execution_count": null,
   "metadata": {},
   "outputs": [],
   "source": []
  }
 ],
 "metadata": {
  "interpreter": {
   "hash": "2739bab8a45a7399ddf8978703b03c3f3e52411d910953e7fb98803a2a87f23c"
  },
  "kernelspec": {
   "display_name": "Python 3.7.9 64-bit ('base': conda)",
   "language": "python",
   "name": "python3"
  },
  "language_info": {
   "codemirror_mode": {
    "name": "ipython",
    "version": 3
   },
   "file_extension": ".py",
   "mimetype": "text/x-python",
   "name": "python",
   "nbconvert_exporter": "python",
   "pygments_lexer": "ipython3",
   "version": "3.7.9"
  },
  "orig_nbformat": 4
 },
 "nbformat": 4,
 "nbformat_minor": 2
}
