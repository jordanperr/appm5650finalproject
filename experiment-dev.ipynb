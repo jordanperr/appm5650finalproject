{
 "cells": [
  {
   "cell_type": "markdown",
   "metadata": {},
   "source": [
    "# Experiment 1\n",
    "\n",
    "Jordan Perr-Sauer\n",
    "11/29/2021"
   ]
  },
  {
   "cell_type": "code",
   "execution_count": 1,
   "metadata": {},
   "outputs": [],
   "source": [
    "%load_ext autoreload\n",
    "%autoreload 2"
   ]
  },
  {
   "cell_type": "code",
   "execution_count": 2,
   "metadata": {},
   "outputs": [
    {
     "name": "stdout",
     "output_type": "stream",
     "text": [
      "OpenOA Version:  /Users/jperrsau/cu-src/appm5650/project/OpenOA/operational_analysis/__init__.py 2.2\n"
     ]
    }
   ],
   "source": [
    "import sys\n",
    "sys.path.append(\"./OpenOA/examples\")\n",
    "\n",
    "import operational_analysis\n",
    "print(\"OpenOA Version: \", operational_analysis.__file__, operational_analysis.__version__)\n",
    "from operational_analysis.methods import plant_analysis\n",
    "\n",
    "from project_ENGIE import Project_Engie\n",
    "from tqdm import tqdm\n",
    "\n",
    "import pandas as pd\n",
    "\n",
    "import itertools\n",
    "\n",
    "import time\n",
    "\n",
    "import seaborn as sns\n",
    "\n",
    "import matplotlib.pyplot as plt\n",
    "\n",
    "from multiprocessing import Pool\n",
    "import os\n",
    "import tqdm\n",
    "import random"
   ]
  },
  {
   "cell_type": "code",
   "execution_count": 3,
   "metadata": {},
   "outputs": [
    {
     "name": "stdout",
     "output_type": "stream",
     "text": [
      "INFO:project_ENGIE:Loading SCADA data\n",
      "INFO:operational_analysis.types.timeseries_table:Loading name:la-haute-borne-data-2014-2015\n",
      "INFO:project_ENGIE:SCADA data loaded\n",
      "INFO:project_ENGIE:Timestamp QC and conversion to UTC\n",
      "INFO:project_ENGIE:Correcting for out of range of temperature variables\n",
      "INFO:numexpr.utils:Note: NumExpr detected 12 cores but \"NUMEXPR_MAX_THREADS\" not set, so enforcing safe limit of 8.\n",
      "INFO:numexpr.utils:NumExpr defaulting to 8 threads.\n",
      "INFO:project_ENGIE:Flagging unresponsive sensors\n",
      "INFO:project_ENGIE:Converting field names to IEC 61400-25 standard\n",
      "INFO:operational_analysis.types.timeseries_table:Loading name:plant_data\n",
      "INFO:operational_analysis.types.timeseries_table:Loading name:plant_data\n",
      "INFO:operational_analysis.types.timeseries_table:Loading name:merra2_la_haute_borne\n",
      "INFO:operational_analysis.types.timeseries_table:Loading name:era5_wind_la_haute_borne\n"
     ]
    }
   ],
   "source": [
    "project = Project_Engie('./OpenOA/examples/data/la_haute_borne')\n",
    "project.prepare()"
   ]
  },
  {
   "cell_type": "code",
   "execution_count": 4,
   "metadata": {},
   "outputs": [],
   "source": [
    "def experiment(num_sim, regression_frac, qmc, repetition, seed):\n",
    "    start_time = time.perf_counter()\n",
    "\n",
    "    pa = plant_analysis.MonteCarloAEP(project,\n",
    "                                    reanal_products = ['era5', 'merra2'],\n",
    "                                    regression_frac=regression_frac,\n",
    "                                    qmc=qmc,\n",
    "                                    seed=seed,\n",
    "                                    bootstrap_reg_data=False,\n",
    "                                    iav_normal_correction=False)\n",
    "    pa.run(num_sim=num_sim, reanal_subset=['era5', 'merra2'])\n",
    "\n",
    "    total_time = time.perf_counter() - start_time\n",
    "\n",
    "    mean,std = pa.results[\"aep_GWh\"].mean(), pa.results[\"aep_GWh\"].std()\n",
    "\n",
    "    res = {\n",
    "        \"num_sim\":num_sim,\n",
    "        \"regression_frac\":regression_frac,\n",
    "        \"qmc\":qmc,\n",
    "        \"repetition\": repetition,\n",
    "        \"time\": total_time,\n",
    "        \"AEP mean\": mean,\n",
    "        \"AEP stdev\": std,\n",
    "    }\n",
    "\n",
    "    return res"
   ]
  },
  {
   "cell_type": "code",
   "execution_count": 5,
   "metadata": {},
   "outputs": [
    {
     "name": "stdout",
     "output_type": "stream",
     "text": [
      "INFO:operational_analysis.methods.plant_analysis:Initializing MonteCarloAEP Analysis Object\n",
      "INFO:operational_analysis.methods.plant_analysis:Running with parameters: {'uncertainty_meter': 0.005, 'uncertainty_losses': 0.05, 'uncertainty_loss_max': array([10., 20.]), 'uncertainty_windiness': array([10., 20.]), 'uncertainty_nan_energy': 0.01, 'num_sim': 128, 'reanal_subset': ['era5', 'merra2']}\n"
     ]
    },
    {
     "name": "stderr",
     "output_type": "stream",
     "text": [
      "100%|██████████| 128/128 [00:01<00:00, 91.97it/s] "
     ]
    },
    {
     "name": "stdout",
     "output_type": "stream",
     "text": [
      "INFO:operational_analysis.methods.plant_analysis:Run completed\n",
      "INFO:operational_analysis.methods.plant_analysis:Initializing MonteCarloAEP Analysis Object\n"
     ]
    },
    {
     "name": "stderr",
     "output_type": "stream",
     "text": [
      "\n"
     ]
    },
    {
     "name": "stdout",
     "output_type": "stream",
     "text": [
      "INFO:operational_analysis.methods.plant_analysis:Running with parameters: {'uncertainty_meter': 0.005, 'uncertainty_losses': 0.05, 'uncertainty_loss_max': array([10., 20.]), 'uncertainty_windiness': array([10., 20.]), 'uncertainty_nan_energy': 0.01, 'num_sim': 128, 'reanal_subset': ['era5', 'merra2']}\n"
     ]
    },
    {
     "name": "stderr",
     "output_type": "stream",
     "text": [
      "100%|██████████| 128/128 [00:01<00:00, 94.60it/s] "
     ]
    },
    {
     "name": "stdout",
     "output_type": "stream",
     "text": [
      "INFO:operational_analysis.methods.plant_analysis:Run completed\n",
      "INFO:operational_analysis.methods.plant_analysis:Initializing MonteCarloAEP Analysis Object\n"
     ]
    },
    {
     "name": "stderr",
     "output_type": "stream",
     "text": [
      "\n"
     ]
    },
    {
     "name": "stdout",
     "output_type": "stream",
     "text": [
      "INFO:operational_analysis.methods.plant_analysis:Running with parameters: {'uncertainty_meter': 0.005, 'uncertainty_losses': 0.05, 'uncertainty_loss_max': array([10., 20.]), 'uncertainty_windiness': array([10., 20.]), 'uncertainty_nan_energy': 0.01, 'num_sim': 128, 'reanal_subset': ['era5', 'merra2']}\n"
     ]
    },
    {
     "name": "stderr",
     "output_type": "stream",
     "text": [
      "100%|██████████| 128/128 [00:01<00:00, 79.45it/s]"
     ]
    },
    {
     "name": "stdout",
     "output_type": "stream",
     "text": [
      "INFO:operational_analysis.methods.plant_analysis:Run completed\n",
      "INFO:operational_analysis.methods.plant_analysis:Initializing MonteCarloAEP Analysis Object\n"
     ]
    },
    {
     "name": "stderr",
     "output_type": "stream",
     "text": [
      "\n"
     ]
    },
    {
     "name": "stdout",
     "output_type": "stream",
     "text": [
      "INFO:operational_analysis.methods.plant_analysis:Running with parameters: {'uncertainty_meter': 0.005, 'uncertainty_losses': 0.05, 'uncertainty_loss_max': array([10., 20.]), 'uncertainty_windiness': array([10., 20.]), 'uncertainty_nan_energy': 0.01, 'num_sim': 128, 'reanal_subset': ['era5', 'merra2']}\n"
     ]
    },
    {
     "name": "stderr",
     "output_type": "stream",
     "text": [
      "100%|██████████| 128/128 [00:01<00:00, 92.74it/s] "
     ]
    },
    {
     "name": "stdout",
     "output_type": "stream",
     "text": [
      "INFO:operational_analysis.methods.plant_analysis:Run completed\n",
      "INFO:operational_analysis.methods.plant_analysis:Initializing MonteCarloAEP Analysis Object\n"
     ]
    },
    {
     "name": "stderr",
     "output_type": "stream",
     "text": [
      "\n"
     ]
    },
    {
     "name": "stdout",
     "output_type": "stream",
     "text": [
      "INFO:operational_analysis.methods.plant_analysis:Running with parameters: {'uncertainty_meter': 0.005, 'uncertainty_losses': 0.05, 'uncertainty_loss_max': array([10., 20.]), 'uncertainty_windiness': array([10., 20.]), 'uncertainty_nan_energy': 0.01, 'num_sim': 128, 'reanal_subset': ['era5', 'merra2']}\n"
     ]
    },
    {
     "name": "stderr",
     "output_type": "stream",
     "text": [
      "100%|██████████| 128/128 [00:01<00:00, 94.13it/s] "
     ]
    },
    {
     "name": "stdout",
     "output_type": "stream",
     "text": [
      "INFO:operational_analysis.methods.plant_analysis:Run completed\n",
      "INFO:operational_analysis.methods.plant_analysis:Initializing MonteCarloAEP Analysis Object\n"
     ]
    },
    {
     "name": "stderr",
     "output_type": "stream",
     "text": [
      "\n"
     ]
    },
    {
     "name": "stdout",
     "output_type": "stream",
     "text": [
      "INFO:operational_analysis.methods.plant_analysis:Running with parameters: {'uncertainty_meter': 0.005, 'uncertainty_losses': 0.05, 'uncertainty_loss_max': array([10., 20.]), 'uncertainty_windiness': array([10., 20.]), 'uncertainty_nan_energy': 0.01, 'num_sim': 128, 'reanal_subset': ['era5', 'merra2']}\n"
     ]
    },
    {
     "name": "stderr",
     "output_type": "stream",
     "text": [
      "100%|██████████| 128/128 [00:01<00:00, 89.58it/s] "
     ]
    },
    {
     "name": "stdout",
     "output_type": "stream",
     "text": [
      "INFO:operational_analysis.methods.plant_analysis:Run completed\n",
      "INFO:operational_analysis.methods.plant_analysis:Initializing MonteCarloAEP Analysis Object\n"
     ]
    },
    {
     "name": "stderr",
     "output_type": "stream",
     "text": [
      "\n"
     ]
    },
    {
     "name": "stdout",
     "output_type": "stream",
     "text": [
      "INFO:operational_analysis.methods.plant_analysis:Running with parameters: {'uncertainty_meter': 0.005, 'uncertainty_losses': 0.05, 'uncertainty_loss_max': array([10., 20.]), 'uncertainty_windiness': array([10., 20.]), 'uncertainty_nan_energy': 0.01, 'num_sim': 128, 'reanal_subset': ['era5', 'merra2']}\n"
     ]
    },
    {
     "name": "stderr",
     "output_type": "stream",
     "text": [
      "100%|██████████| 128/128 [00:01<00:00, 89.85it/s] "
     ]
    },
    {
     "name": "stdout",
     "output_type": "stream",
     "text": [
      "INFO:operational_analysis.methods.plant_analysis:Run completed\n",
      "INFO:operational_analysis.methods.plant_analysis:Initializing MonteCarloAEP Analysis Object\n"
     ]
    },
    {
     "name": "stderr",
     "output_type": "stream",
     "text": [
      "\n"
     ]
    },
    {
     "name": "stdout",
     "output_type": "stream",
     "text": [
      "INFO:operational_analysis.methods.plant_analysis:Running with parameters: {'uncertainty_meter': 0.005, 'uncertainty_losses': 0.05, 'uncertainty_loss_max': array([10., 20.]), 'uncertainty_windiness': array([10., 20.]), 'uncertainty_nan_energy': 0.01, 'num_sim': 128, 'reanal_subset': ['era5', 'merra2']}\n"
     ]
    },
    {
     "name": "stderr",
     "output_type": "stream",
     "text": [
      "100%|██████████| 128/128 [00:01<00:00, 74.87it/s]"
     ]
    },
    {
     "name": "stdout",
     "output_type": "stream",
     "text": [
      "INFO:operational_analysis.methods.plant_analysis:Run completed\n",
      "INFO:operational_analysis.methods.plant_analysis:Initializing MonteCarloAEP Analysis Object\n"
     ]
    },
    {
     "name": "stderr",
     "output_type": "stream",
     "text": [
      "\n"
     ]
    },
    {
     "name": "stdout",
     "output_type": "stream",
     "text": [
      "INFO:operational_analysis.methods.plant_analysis:Running with parameters: {'uncertainty_meter': 0.005, 'uncertainty_losses': 0.05, 'uncertainty_loss_max': array([10., 20.]), 'uncertainty_windiness': array([10., 20.]), 'uncertainty_nan_energy': 0.01, 'num_sim': 128, 'reanal_subset': ['era5', 'merra2']}\n"
     ]
    },
    {
     "name": "stderr",
     "output_type": "stream",
     "text": [
      "100%|██████████| 128/128 [00:01<00:00, 73.01it/s]"
     ]
    },
    {
     "name": "stdout",
     "output_type": "stream",
     "text": [
      "INFO:operational_analysis.methods.plant_analysis:Run completed\n",
      "INFO:operational_analysis.methods.plant_analysis:Initializing MonteCarloAEP Analysis Object\n"
     ]
    },
    {
     "name": "stderr",
     "output_type": "stream",
     "text": [
      "\n"
     ]
    },
    {
     "name": "stdout",
     "output_type": "stream",
     "text": [
      "INFO:operational_analysis.methods.plant_analysis:Running with parameters: {'uncertainty_meter': 0.005, 'uncertainty_losses': 0.05, 'uncertainty_loss_max': array([10., 20.]), 'uncertainty_windiness': array([10., 20.]), 'uncertainty_nan_energy': 0.01, 'num_sim': 128, 'reanal_subset': ['era5', 'merra2']}\n"
     ]
    },
    {
     "name": "stderr",
     "output_type": "stream",
     "text": [
      "100%|██████████| 128/128 [00:01<00:00, 90.14it/s] "
     ]
    },
    {
     "name": "stdout",
     "output_type": "stream",
     "text": [
      "INFO:operational_analysis.methods.plant_analysis:Run completed\n",
      "INFO:operational_analysis.methods.plant_analysis:Initializing MonteCarloAEP Analysis Object\n"
     ]
    },
    {
     "name": "stderr",
     "output_type": "stream",
     "text": [
      "\n"
     ]
    },
    {
     "name": "stdout",
     "output_type": "stream",
     "text": [
      "INFO:operational_analysis.methods.plant_analysis:Running with parameters: {'uncertainty_meter': 0.005, 'uncertainty_losses': 0.05, 'uncertainty_loss_max': array([10., 20.]), 'uncertainty_windiness': array([10., 20.]), 'uncertainty_nan_energy': 0.01, 'num_sim': 128, 'reanal_subset': ['era5', 'merra2']}\n"
     ]
    },
    {
     "name": "stderr",
     "output_type": "stream",
     "text": [
      "100%|██████████| 128/128 [00:01<00:00, 83.85it/s] "
     ]
    },
    {
     "name": "stdout",
     "output_type": "stream",
     "text": [
      "INFO:operational_analysis.methods.plant_analysis:Run completed\n",
      "INFO:operational_analysis.methods.plant_analysis:Initializing MonteCarloAEP Analysis Object\n"
     ]
    },
    {
     "name": "stderr",
     "output_type": "stream",
     "text": [
      "\n"
     ]
    },
    {
     "name": "stdout",
     "output_type": "stream",
     "text": [
      "INFO:operational_analysis.methods.plant_analysis:Running with parameters: {'uncertainty_meter': 0.005, 'uncertainty_losses': 0.05, 'uncertainty_loss_max': array([10., 20.]), 'uncertainty_windiness': array([10., 20.]), 'uncertainty_nan_energy': 0.01, 'num_sim': 128, 'reanal_subset': ['era5', 'merra2']}\n"
     ]
    },
    {
     "name": "stderr",
     "output_type": "stream",
     "text": [
      "100%|██████████| 128/128 [00:01<00:00, 96.87it/s] "
     ]
    },
    {
     "name": "stdout",
     "output_type": "stream",
     "text": [
      "INFO:operational_analysis.methods.plant_analysis:Run completed\n",
      "INFO:operational_analysis.methods.plant_analysis:Initializing MonteCarloAEP Analysis Object\n"
     ]
    },
    {
     "name": "stderr",
     "output_type": "stream",
     "text": [
      "\n"
     ]
    },
    {
     "name": "stdout",
     "output_type": "stream",
     "text": [
      "INFO:operational_analysis.methods.plant_analysis:Running with parameters: {'uncertainty_meter': 0.005, 'uncertainty_losses': 0.05, 'uncertainty_loss_max': array([10., 20.]), 'uncertainty_windiness': array([10., 20.]), 'uncertainty_nan_energy': 0.01, 'num_sim': 128, 'reanal_subset': ['era5', 'merra2']}\n"
     ]
    },
    {
     "name": "stderr",
     "output_type": "stream",
     "text": [
      "100%|██████████| 128/128 [00:01<00:00, 83.93it/s]"
     ]
    },
    {
     "name": "stdout",
     "output_type": "stream",
     "text": [
      "INFO:operational_analysis.methods.plant_analysis:Run completed\n",
      "INFO:operational_analysis.methods.plant_analysis:Initializing MonteCarloAEP Analysis Object\n"
     ]
    },
    {
     "name": "stderr",
     "output_type": "stream",
     "text": [
      "\n"
     ]
    },
    {
     "name": "stdout",
     "output_type": "stream",
     "text": [
      "INFO:operational_analysis.methods.plant_analysis:Running with parameters: {'uncertainty_meter': 0.005, 'uncertainty_losses': 0.05, 'uncertainty_loss_max': array([10., 20.]), 'uncertainty_windiness': array([10., 20.]), 'uncertainty_nan_energy': 0.01, 'num_sim': 128, 'reanal_subset': ['era5', 'merra2']}\n"
     ]
    },
    {
     "name": "stderr",
     "output_type": "stream",
     "text": [
      "100%|██████████| 128/128 [00:01<00:00, 97.50it/s] "
     ]
    },
    {
     "name": "stdout",
     "output_type": "stream",
     "text": [
      "INFO:operational_analysis.methods.plant_analysis:Run completed\n",
      "INFO:operational_analysis.methods.plant_analysis:Initializing MonteCarloAEP Analysis Object\n"
     ]
    },
    {
     "name": "stderr",
     "output_type": "stream",
     "text": [
      "\n"
     ]
    },
    {
     "name": "stdout",
     "output_type": "stream",
     "text": [
      "INFO:operational_analysis.methods.plant_analysis:Running with parameters: {'uncertainty_meter': 0.005, 'uncertainty_losses': 0.05, 'uncertainty_loss_max': array([10., 20.]), 'uncertainty_windiness': array([10., 20.]), 'uncertainty_nan_energy': 0.01, 'num_sim': 128, 'reanal_subset': ['era5', 'merra2']}\n"
     ]
    },
    {
     "name": "stderr",
     "output_type": "stream",
     "text": [
      "100%|██████████| 128/128 [00:01<00:00, 96.61it/s] "
     ]
    },
    {
     "name": "stdout",
     "output_type": "stream",
     "text": [
      "INFO:operational_analysis.methods.plant_analysis:Run completed\n",
      "INFO:operational_analysis.methods.plant_analysis:Initializing MonteCarloAEP Analysis Object\n"
     ]
    },
    {
     "name": "stderr",
     "output_type": "stream",
     "text": [
      "\n"
     ]
    },
    {
     "name": "stdout",
     "output_type": "stream",
     "text": [
      "INFO:operational_analysis.methods.plant_analysis:Running with parameters: {'uncertainty_meter': 0.005, 'uncertainty_losses': 0.05, 'uncertainty_loss_max': array([10., 20.]), 'uncertainty_windiness': array([10., 20.]), 'uncertainty_nan_energy': 0.01, 'num_sim': 128, 'reanal_subset': ['era5', 'merra2']}\n"
     ]
    },
    {
     "name": "stderr",
     "output_type": "stream",
     "text": [
      "100%|██████████| 128/128 [00:01<00:00, 95.95it/s] "
     ]
    },
    {
     "name": "stdout",
     "output_type": "stream",
     "text": [
      "INFO:operational_analysis.methods.plant_analysis:Run completed\n",
      "INFO:operational_analysis.methods.plant_analysis:Initializing MonteCarloAEP Analysis Object\n"
     ]
    },
    {
     "name": "stderr",
     "output_type": "stream",
     "text": [
      "\n"
     ]
    },
    {
     "name": "stdout",
     "output_type": "stream",
     "text": [
      "INFO:operational_analysis.methods.plant_analysis:Running with parameters: {'uncertainty_meter': 0.005, 'uncertainty_losses': 0.05, 'uncertainty_loss_max': array([10., 20.]), 'uncertainty_windiness': array([10., 20.]), 'uncertainty_nan_energy': 0.01, 'num_sim': 128, 'reanal_subset': ['era5', 'merra2']}\n"
     ]
    },
    {
     "name": "stderr",
     "output_type": "stream",
     "text": [
      "100%|██████████| 128/128 [00:01<00:00, 100.75it/s]"
     ]
    },
    {
     "name": "stdout",
     "output_type": "stream",
     "text": [
      "INFO:operational_analysis.methods.plant_analysis:Run completed\n",
      "INFO:operational_analysis.methods.plant_analysis:Initializing MonteCarloAEP Analysis Object\n"
     ]
    },
    {
     "name": "stderr",
     "output_type": "stream",
     "text": [
      "\n"
     ]
    },
    {
     "name": "stdout",
     "output_type": "stream",
     "text": [
      "INFO:operational_analysis.methods.plant_analysis:Running with parameters: {'uncertainty_meter': 0.005, 'uncertainty_losses': 0.05, 'uncertainty_loss_max': array([10., 20.]), 'uncertainty_windiness': array([10., 20.]), 'uncertainty_nan_energy': 0.01, 'num_sim': 128, 'reanal_subset': ['era5', 'merra2']}\n"
     ]
    },
    {
     "name": "stderr",
     "output_type": "stream",
     "text": [
      "100%|██████████| 128/128 [00:01<00:00, 98.87it/s] "
     ]
    },
    {
     "name": "stdout",
     "output_type": "stream",
     "text": [
      "INFO:operational_analysis.methods.plant_analysis:Run completed\n",
      "INFO:operational_analysis.methods.plant_analysis:Initializing MonteCarloAEP Analysis Object\n"
     ]
    },
    {
     "name": "stderr",
     "output_type": "stream",
     "text": [
      "\n"
     ]
    },
    {
     "name": "stdout",
     "output_type": "stream",
     "text": [
      "INFO:operational_analysis.methods.plant_analysis:Running with parameters: {'uncertainty_meter': 0.005, 'uncertainty_losses': 0.05, 'uncertainty_loss_max': array([10., 20.]), 'uncertainty_windiness': array([10., 20.]), 'uncertainty_nan_energy': 0.01, 'num_sim': 128, 'reanal_subset': ['era5', 'merra2']}\n"
     ]
    },
    {
     "name": "stderr",
     "output_type": "stream",
     "text": [
      "100%|██████████| 128/128 [00:01<00:00, 98.15it/s] "
     ]
    },
    {
     "name": "stdout",
     "output_type": "stream",
     "text": [
      "INFO:operational_analysis.methods.plant_analysis:Run completed\n",
      "INFO:operational_analysis.methods.plant_analysis:Initializing MonteCarloAEP Analysis Object\n"
     ]
    },
    {
     "name": "stderr",
     "output_type": "stream",
     "text": [
      "\n"
     ]
    },
    {
     "name": "stdout",
     "output_type": "stream",
     "text": [
      "INFO:operational_analysis.methods.plant_analysis:Running with parameters: {'uncertainty_meter': 0.005, 'uncertainty_losses': 0.05, 'uncertainty_loss_max': array([10., 20.]), 'uncertainty_windiness': array([10., 20.]), 'uncertainty_nan_energy': 0.01, 'num_sim': 128, 'reanal_subset': ['era5', 'merra2']}\n"
     ]
    },
    {
     "name": "stderr",
     "output_type": "stream",
     "text": [
      "100%|██████████| 128/128 [00:01<00:00, 97.31it/s] "
     ]
    },
    {
     "name": "stdout",
     "output_type": "stream",
     "text": [
      "INFO:operational_analysis.methods.plant_analysis:Run completed\n",
      "INFO:operational_analysis.methods.plant_analysis:Initializing MonteCarloAEP Analysis Object\n"
     ]
    },
    {
     "name": "stderr",
     "output_type": "stream",
     "text": [
      "\n"
     ]
    },
    {
     "name": "stdout",
     "output_type": "stream",
     "text": [
      "INFO:operational_analysis.methods.plant_analysis:Running with parameters: {'uncertainty_meter': 0.005, 'uncertainty_losses': 0.05, 'uncertainty_loss_max': array([10., 20.]), 'uncertainty_windiness': array([10., 20.]), 'uncertainty_nan_energy': 0.01, 'num_sim': 128, 'reanal_subset': ['era5', 'merra2']}\n"
     ]
    },
    {
     "name": "stderr",
     "output_type": "stream",
     "text": [
      "100%|██████████| 128/128 [00:01<00:00, 95.74it/s] "
     ]
    },
    {
     "name": "stdout",
     "output_type": "stream",
     "text": [
      "INFO:operational_analysis.methods.plant_analysis:Run completed\n",
      "INFO:operational_analysis.methods.plant_analysis:Initializing MonteCarloAEP Analysis Object\n"
     ]
    },
    {
     "name": "stderr",
     "output_type": "stream",
     "text": [
      "\n"
     ]
    },
    {
     "name": "stdout",
     "output_type": "stream",
     "text": [
      "INFO:operational_analysis.methods.plant_analysis:Running with parameters: {'uncertainty_meter': 0.005, 'uncertainty_losses': 0.05, 'uncertainty_loss_max': array([10., 20.]), 'uncertainty_windiness': array([10., 20.]), 'uncertainty_nan_energy': 0.01, 'num_sim': 128, 'reanal_subset': ['era5', 'merra2']}\n"
     ]
    },
    {
     "name": "stderr",
     "output_type": "stream",
     "text": [
      "100%|██████████| 128/128 [00:01<00:00, 97.77it/s] "
     ]
    },
    {
     "name": "stdout",
     "output_type": "stream",
     "text": [
      "INFO:operational_analysis.methods.plant_analysis:Run completed\n",
      "INFO:operational_analysis.methods.plant_analysis:Initializing MonteCarloAEP Analysis Object\n"
     ]
    },
    {
     "name": "stderr",
     "output_type": "stream",
     "text": [
      "\n"
     ]
    },
    {
     "name": "stdout",
     "output_type": "stream",
     "text": [
      "INFO:operational_analysis.methods.plant_analysis:Running with parameters: {'uncertainty_meter': 0.005, 'uncertainty_losses': 0.05, 'uncertainty_loss_max': array([10., 20.]), 'uncertainty_windiness': array([10., 20.]), 'uncertainty_nan_energy': 0.01, 'num_sim': 128, 'reanal_subset': ['era5', 'merra2']}\n"
     ]
    },
    {
     "name": "stderr",
     "output_type": "stream",
     "text": [
      "100%|██████████| 128/128 [00:01<00:00, 96.28it/s] "
     ]
    },
    {
     "name": "stdout",
     "output_type": "stream",
     "text": [
      "INFO:operational_analysis.methods.plant_analysis:Run completed\n",
      "INFO:operational_analysis.methods.plant_analysis:Initializing MonteCarloAEP Analysis Object\n"
     ]
    },
    {
     "name": "stderr",
     "output_type": "stream",
     "text": [
      "\n"
     ]
    },
    {
     "name": "stdout",
     "output_type": "stream",
     "text": [
      "INFO:operational_analysis.methods.plant_analysis:Running with parameters: {'uncertainty_meter': 0.005, 'uncertainty_losses': 0.05, 'uncertainty_loss_max': array([10., 20.]), 'uncertainty_windiness': array([10., 20.]), 'uncertainty_nan_energy': 0.01, 'num_sim': 128, 'reanal_subset': ['era5', 'merra2']}\n"
     ]
    },
    {
     "name": "stderr",
     "output_type": "stream",
     "text": [
      "100%|██████████| 128/128 [00:01<00:00, 98.78it/s] "
     ]
    },
    {
     "name": "stdout",
     "output_type": "stream",
     "text": [
      "INFO:operational_analysis.methods.plant_analysis:Run completed\n",
      "INFO:operational_analysis.methods.plant_analysis:Initializing MonteCarloAEP Analysis Object\n"
     ]
    },
    {
     "name": "stderr",
     "output_type": "stream",
     "text": [
      "\n"
     ]
    },
    {
     "name": "stdout",
     "output_type": "stream",
     "text": [
      "INFO:operational_analysis.methods.plant_analysis:Running with parameters: {'uncertainty_meter': 0.005, 'uncertainty_losses': 0.05, 'uncertainty_loss_max': array([10., 20.]), 'uncertainty_windiness': array([10., 20.]), 'uncertainty_nan_energy': 0.01, 'num_sim': 128, 'reanal_subset': ['era5', 'merra2']}\n"
     ]
    },
    {
     "name": "stderr",
     "output_type": "stream",
     "text": [
      "100%|██████████| 128/128 [00:01<00:00, 96.50it/s] "
     ]
    },
    {
     "name": "stdout",
     "output_type": "stream",
     "text": [
      "INFO:operational_analysis.methods.plant_analysis:Run completed\n",
      "INFO:operational_analysis.methods.plant_analysis:Initializing MonteCarloAEP Analysis Object\n"
     ]
    },
    {
     "name": "stderr",
     "output_type": "stream",
     "text": [
      "\n"
     ]
    },
    {
     "name": "stdout",
     "output_type": "stream",
     "text": [
      "INFO:operational_analysis.methods.plant_analysis:Running with parameters: {'uncertainty_meter': 0.005, 'uncertainty_losses': 0.05, 'uncertainty_loss_max': array([10., 20.]), 'uncertainty_windiness': array([10., 20.]), 'uncertainty_nan_energy': 0.01, 'num_sim': 128, 'reanal_subset': ['era5', 'merra2']}\n"
     ]
    },
    {
     "name": "stderr",
     "output_type": "stream",
     "text": [
      "100%|██████████| 128/128 [00:01<00:00, 101.44it/s]"
     ]
    },
    {
     "name": "stdout",
     "output_type": "stream",
     "text": [
      "INFO:operational_analysis.methods.plant_analysis:Run completed\n",
      "INFO:operational_analysis.methods.plant_analysis:Initializing MonteCarloAEP Analysis Object\n"
     ]
    },
    {
     "name": "stderr",
     "output_type": "stream",
     "text": [
      "\n"
     ]
    },
    {
     "name": "stdout",
     "output_type": "stream",
     "text": [
      "INFO:operational_analysis.methods.plant_analysis:Running with parameters: {'uncertainty_meter': 0.005, 'uncertainty_losses': 0.05, 'uncertainty_loss_max': array([10., 20.]), 'uncertainty_windiness': array([10., 20.]), 'uncertainty_nan_energy': 0.01, 'num_sim': 128, 'reanal_subset': ['era5', 'merra2']}\n"
     ]
    },
    {
     "name": "stderr",
     "output_type": "stream",
     "text": [
      "100%|██████████| 128/128 [00:01<00:00, 94.82it/s] "
     ]
    },
    {
     "name": "stdout",
     "output_type": "stream",
     "text": [
      "INFO:operational_analysis.methods.plant_analysis:Run completed\n",
      "INFO:operational_analysis.methods.plant_analysis:Initializing MonteCarloAEP Analysis Object\n"
     ]
    },
    {
     "name": "stderr",
     "output_type": "stream",
     "text": [
      "\n"
     ]
    },
    {
     "name": "stdout",
     "output_type": "stream",
     "text": [
      "INFO:operational_analysis.methods.plant_analysis:Running with parameters: {'uncertainty_meter': 0.005, 'uncertainty_losses': 0.05, 'uncertainty_loss_max': array([10., 20.]), 'uncertainty_windiness': array([10., 20.]), 'uncertainty_nan_energy': 0.01, 'num_sim': 128, 'reanal_subset': ['era5', 'merra2']}\n"
     ]
    },
    {
     "name": "stderr",
     "output_type": "stream",
     "text": [
      "100%|██████████| 128/128 [00:01<00:00, 96.15it/s] "
     ]
    },
    {
     "name": "stdout",
     "output_type": "stream",
     "text": [
      "INFO:operational_analysis.methods.plant_analysis:Run completed\n",
      "INFO:operational_analysis.methods.plant_analysis:Initializing MonteCarloAEP Analysis Object\n"
     ]
    },
    {
     "name": "stderr",
     "output_type": "stream",
     "text": [
      "\n"
     ]
    },
    {
     "name": "stdout",
     "output_type": "stream",
     "text": [
      "INFO:operational_analysis.methods.plant_analysis:Running with parameters: {'uncertainty_meter': 0.005, 'uncertainty_losses': 0.05, 'uncertainty_loss_max': array([10., 20.]), 'uncertainty_windiness': array([10., 20.]), 'uncertainty_nan_energy': 0.01, 'num_sim': 128, 'reanal_subset': ['era5', 'merra2']}\n"
     ]
    },
    {
     "name": "stderr",
     "output_type": "stream",
     "text": [
      "100%|██████████| 128/128 [00:01<00:00, 97.77it/s] "
     ]
    },
    {
     "name": "stdout",
     "output_type": "stream",
     "text": [
      "INFO:operational_analysis.methods.plant_analysis:Run completed\n",
      "INFO:operational_analysis.methods.plant_analysis:Initializing MonteCarloAEP Analysis Object\n"
     ]
    },
    {
     "name": "stderr",
     "output_type": "stream",
     "text": [
      "\n"
     ]
    },
    {
     "name": "stdout",
     "output_type": "stream",
     "text": [
      "INFO:operational_analysis.methods.plant_analysis:Running with parameters: {'uncertainty_meter': 0.005, 'uncertainty_losses': 0.05, 'uncertainty_loss_max': array([10., 20.]), 'uncertainty_windiness': array([10., 20.]), 'uncertainty_nan_energy': 0.01, 'num_sim': 128, 'reanal_subset': ['era5', 'merra2']}\n"
     ]
    },
    {
     "name": "stderr",
     "output_type": "stream",
     "text": [
      "100%|██████████| 128/128 [00:01<00:00, 102.17it/s]"
     ]
    },
    {
     "name": "stdout",
     "output_type": "stream",
     "text": [
      "INFO:operational_analysis.methods.plant_analysis:Run completed\n",
      "INFO:operational_analysis.methods.plant_analysis:Initializing MonteCarloAEP Analysis Object\n"
     ]
    },
    {
     "name": "stderr",
     "output_type": "stream",
     "text": [
      "\n"
     ]
    },
    {
     "name": "stdout",
     "output_type": "stream",
     "text": [
      "INFO:operational_analysis.methods.plant_analysis:Running with parameters: {'uncertainty_meter': 0.005, 'uncertainty_losses': 0.05, 'uncertainty_loss_max': array([10., 20.]), 'uncertainty_windiness': array([10., 20.]), 'uncertainty_nan_energy': 0.01, 'num_sim': 128, 'reanal_subset': ['era5', 'merra2']}\n"
     ]
    },
    {
     "name": "stderr",
     "output_type": "stream",
     "text": [
      "100%|██████████| 128/128 [00:01<00:00, 98.08it/s] "
     ]
    },
    {
     "name": "stdout",
     "output_type": "stream",
     "text": [
      "INFO:operational_analysis.methods.plant_analysis:Run completed\n",
      "INFO:operational_analysis.methods.plant_analysis:Initializing MonteCarloAEP Analysis Object\n"
     ]
    },
    {
     "name": "stderr",
     "output_type": "stream",
     "text": [
      "\n"
     ]
    },
    {
     "name": "stdout",
     "output_type": "stream",
     "text": [
      "INFO:operational_analysis.methods.plant_analysis:Running with parameters: {'uncertainty_meter': 0.005, 'uncertainty_losses': 0.05, 'uncertainty_loss_max': array([10., 20.]), 'uncertainty_windiness': array([10., 20.]), 'uncertainty_nan_energy': 0.01, 'num_sim': 128, 'reanal_subset': ['era5', 'merra2']}\n"
     ]
    },
    {
     "name": "stderr",
     "output_type": "stream",
     "text": [
      "100%|██████████| 128/128 [00:01<00:00, 95.68it/s] "
     ]
    },
    {
     "name": "stdout",
     "output_type": "stream",
     "text": [
      "INFO:operational_analysis.methods.plant_analysis:Run completed\n",
      "INFO:operational_analysis.methods.plant_analysis:Initializing MonteCarloAEP Analysis Object\n"
     ]
    },
    {
     "name": "stderr",
     "output_type": "stream",
     "text": [
      "\n"
     ]
    },
    {
     "name": "stdout",
     "output_type": "stream",
     "text": [
      "INFO:operational_analysis.methods.plant_analysis:Running with parameters: {'uncertainty_meter': 0.005, 'uncertainty_losses': 0.05, 'uncertainty_loss_max': array([10., 20.]), 'uncertainty_windiness': array([10., 20.]), 'uncertainty_nan_energy': 0.01, 'num_sim': 128, 'reanal_subset': ['era5', 'merra2']}\n"
     ]
    },
    {
     "name": "stderr",
     "output_type": "stream",
     "text": [
      "100%|██████████| 128/128 [00:01<00:00, 98.37it/s] "
     ]
    },
    {
     "name": "stdout",
     "output_type": "stream",
     "text": [
      "INFO:operational_analysis.methods.plant_analysis:Run completed\n",
      "INFO:operational_analysis.methods.plant_analysis:Initializing MonteCarloAEP Analysis Object\n"
     ]
    },
    {
     "name": "stderr",
     "output_type": "stream",
     "text": [
      "\n"
     ]
    },
    {
     "name": "stdout",
     "output_type": "stream",
     "text": [
      "INFO:operational_analysis.methods.plant_analysis:Running with parameters: {'uncertainty_meter': 0.005, 'uncertainty_losses': 0.05, 'uncertainty_loss_max': array([10., 20.]), 'uncertainty_windiness': array([10., 20.]), 'uncertainty_nan_energy': 0.01, 'num_sim': 128, 'reanal_subset': ['era5', 'merra2']}\n"
     ]
    },
    {
     "name": "stderr",
     "output_type": "stream",
     "text": [
      "100%|██████████| 128/128 [00:01<00:00, 96.80it/s] "
     ]
    },
    {
     "name": "stdout",
     "output_type": "stream",
     "text": [
      "INFO:operational_analysis.methods.plant_analysis:Run completed\n",
      "INFO:operational_analysis.methods.plant_analysis:Initializing MonteCarloAEP Analysis Object\n"
     ]
    },
    {
     "name": "stderr",
     "output_type": "stream",
     "text": [
      "\n"
     ]
    },
    {
     "name": "stdout",
     "output_type": "stream",
     "text": [
      "INFO:operational_analysis.methods.plant_analysis:Running with parameters: {'uncertainty_meter': 0.005, 'uncertainty_losses': 0.05, 'uncertainty_loss_max': array([10., 20.]), 'uncertainty_windiness': array([10., 20.]), 'uncertainty_nan_energy': 0.01, 'num_sim': 128, 'reanal_subset': ['era5', 'merra2']}\n"
     ]
    },
    {
     "name": "stderr",
     "output_type": "stream",
     "text": [
      "100%|██████████| 128/128 [00:01<00:00, 98.46it/s] "
     ]
    },
    {
     "name": "stdout",
     "output_type": "stream",
     "text": [
      "INFO:operational_analysis.methods.plant_analysis:Run completed\n",
      "INFO:operational_analysis.methods.plant_analysis:Initializing MonteCarloAEP Analysis Object\n"
     ]
    },
    {
     "name": "stderr",
     "output_type": "stream",
     "text": [
      "\n"
     ]
    },
    {
     "name": "stdout",
     "output_type": "stream",
     "text": [
      "INFO:operational_analysis.methods.plant_analysis:Running with parameters: {'uncertainty_meter': 0.005, 'uncertainty_losses': 0.05, 'uncertainty_loss_max': array([10., 20.]), 'uncertainty_windiness': array([10., 20.]), 'uncertainty_nan_energy': 0.01, 'num_sim': 128, 'reanal_subset': ['era5', 'merra2']}\n"
     ]
    },
    {
     "name": "stderr",
     "output_type": "stream",
     "text": [
      "100%|██████████| 128/128 [00:01<00:00, 96.35it/s] "
     ]
    },
    {
     "name": "stdout",
     "output_type": "stream",
     "text": [
      "INFO:operational_analysis.methods.plant_analysis:Run completed\n",
      "INFO:operational_analysis.methods.plant_analysis:Initializing MonteCarloAEP Analysis Object\n"
     ]
    },
    {
     "name": "stderr",
     "output_type": "stream",
     "text": [
      "\n"
     ]
    },
    {
     "name": "stdout",
     "output_type": "stream",
     "text": [
      "INFO:operational_analysis.methods.plant_analysis:Running with parameters: {'uncertainty_meter': 0.005, 'uncertainty_losses': 0.05, 'uncertainty_loss_max': array([10., 20.]), 'uncertainty_windiness': array([10., 20.]), 'uncertainty_nan_energy': 0.01, 'num_sim': 128, 'reanal_subset': ['era5', 'merra2']}\n"
     ]
    },
    {
     "name": "stderr",
     "output_type": "stream",
     "text": [
      "100%|██████████| 128/128 [00:01<00:00, 90.53it/s] "
     ]
    },
    {
     "name": "stdout",
     "output_type": "stream",
     "text": [
      "INFO:operational_analysis.methods.plant_analysis:Run completed\n",
      "INFO:operational_analysis.methods.plant_analysis:Initializing MonteCarloAEP Analysis Object\n"
     ]
    },
    {
     "name": "stderr",
     "output_type": "stream",
     "text": [
      "\n"
     ]
    },
    {
     "name": "stdout",
     "output_type": "stream",
     "text": [
      "INFO:operational_analysis.methods.plant_analysis:Running with parameters: {'uncertainty_meter': 0.005, 'uncertainty_losses': 0.05, 'uncertainty_loss_max': array([10., 20.]), 'uncertainty_windiness': array([10., 20.]), 'uncertainty_nan_energy': 0.01, 'num_sim': 128, 'reanal_subset': ['era5', 'merra2']}\n"
     ]
    },
    {
     "name": "stderr",
     "output_type": "stream",
     "text": [
      "100%|██████████| 128/128 [00:01<00:00, 97.30it/s] "
     ]
    },
    {
     "name": "stdout",
     "output_type": "stream",
     "text": [
      "INFO:operational_analysis.methods.plant_analysis:Run completed\n",
      "INFO:operational_analysis.methods.plant_analysis:Initializing MonteCarloAEP Analysis Object\n"
     ]
    },
    {
     "name": "stderr",
     "output_type": "stream",
     "text": [
      "\n"
     ]
    },
    {
     "name": "stdout",
     "output_type": "stream",
     "text": [
      "INFO:operational_analysis.methods.plant_analysis:Running with parameters: {'uncertainty_meter': 0.005, 'uncertainty_losses': 0.05, 'uncertainty_loss_max': array([10., 20.]), 'uncertainty_windiness': array([10., 20.]), 'uncertainty_nan_energy': 0.01, 'num_sim': 128, 'reanal_subset': ['era5', 'merra2']}\n"
     ]
    },
    {
     "name": "stderr",
     "output_type": "stream",
     "text": [
      "100%|██████████| 128/128 [00:01<00:00, 99.10it/s] "
     ]
    },
    {
     "name": "stdout",
     "output_type": "stream",
     "text": [
      "INFO:operational_analysis.methods.plant_analysis:Run completed\n",
      "INFO:operational_analysis.methods.plant_analysis:Initializing MonteCarloAEP Analysis Object\n"
     ]
    },
    {
     "name": "stderr",
     "output_type": "stream",
     "text": [
      "\n"
     ]
    },
    {
     "name": "stdout",
     "output_type": "stream",
     "text": [
      "INFO:operational_analysis.methods.plant_analysis:Running with parameters: {'uncertainty_meter': 0.005, 'uncertainty_losses': 0.05, 'uncertainty_loss_max': array([10., 20.]), 'uncertainty_windiness': array([10., 20.]), 'uncertainty_nan_energy': 0.01, 'num_sim': 128, 'reanal_subset': ['era5', 'merra2']}\n"
     ]
    },
    {
     "name": "stderr",
     "output_type": "stream",
     "text": [
      "100%|██████████| 128/128 [00:01<00:00, 93.48it/s] "
     ]
    },
    {
     "name": "stdout",
     "output_type": "stream",
     "text": [
      "INFO:operational_analysis.methods.plant_analysis:Run completed\n"
     ]
    },
    {
     "name": "stderr",
     "output_type": "stream",
     "text": [
      "\n"
     ]
    }
   ],
   "source": [
    "\n",
    "num_sim = [128] #[128, 512]\n",
    "regression_frac = [1.0] #[0.1, 1.0]\n",
    "qmc = [True, False]\n",
    "repetitions = range(20)\n",
    "\n",
    "p = itertools.product(num_sim,regression_frac,qmc,repetitions)\n",
    "results = list(map(lambda x: experiment(*(x + (random.randint(0,9999),))),p))\n",
    "\n",
    "df = pd.DataFrame(results)\n",
    "#df"
   ]
  },
  {
   "cell_type": "code",
   "execution_count": 6,
   "metadata": {},
   "outputs": [
    {
     "data": {
      "text/plain": [
       "Text(0.5, 1.0, 'AEP Stdev')"
      ]
     },
     "execution_count": 6,
     "metadata": {},
     "output_type": "execute_result"
    },
    {
     "data": {
      "image/png": "[encoded data removed]",
      "text/plain": [
       "<Figure size 800x300 with 2 Axes>"
      ]
     },
     "metadata": {
      "needs_background": "light"
     },
     "output_type": "display_data"
    }
   ],
   "source": [
    "plt.figure(figsize=(8,3),dpi=100)\n",
    "\n",
    "plt.subplot(1,2,1)\n",
    "sns.histplot(data=df, x=\"AEP mean\", hue=\"qmc\")\n",
    "plt.title(\"AEP Mean\")\n",
    "\n",
    "plt.subplot(1,2,2)\n",
    "sns.histplot(data=df, x=\"AEP stdev\", hue=\"qmc\")\n",
    "plt.title(\"AEP Stdev\")"
   ]
  },
  {
   "cell_type": "code",
   "execution_count": 7,
   "metadata": {},
   "outputs": [
    {
     "ename": "TypeError",
     "evalue": "experiment() missing 1 required positional argument: 'seed'",
     "output_type": "error",
     "traceback": [
      "\u001b[0;31m---------------------------------------------------------------------------\u001b[0m",
      "\u001b[0;31mTypeError\u001b[0m                                 Traceback (most recent call last)",
      "\u001b[0;32m/var/folders/3g/8436y4yj1r9367dvt15y6jqcdx0hcv/T/ipykernel_90482/913445750.py\u001b[0m in \u001b[0;36m<module>\u001b[0;34m\u001b[0m\n\u001b[1;32m      5\u001b[0m \u001b[0;34m\u001b[0m\u001b[0m\n\u001b[1;32m      6\u001b[0m \u001b[0mp\u001b[0m \u001b[0;34m=\u001b[0m \u001b[0mitertools\u001b[0m\u001b[0;34m.\u001b[0m\u001b[0mproduct\u001b[0m\u001b[0;34m(\u001b[0m\u001b[0mnum_sim\u001b[0m\u001b[0;34m,\u001b[0m\u001b[0mregression_frac\u001b[0m\u001b[0;34m,\u001b[0m\u001b[0mqmc\u001b[0m\u001b[0;34m,\u001b[0m\u001b[0mrepetitions\u001b[0m\u001b[0;34m)\u001b[0m\u001b[0;34m\u001b[0m\u001b[0;34m\u001b[0m\u001b[0m\n\u001b[0;32m----> 7\u001b[0;31m \u001b[0mresults\u001b[0m \u001b[0;34m=\u001b[0m \u001b[0mlist\u001b[0m\u001b[0;34m(\u001b[0m\u001b[0mmap\u001b[0m\u001b[0;34m(\u001b[0m\u001b[0;32mlambda\u001b[0m \u001b[0mx\u001b[0m\u001b[0;34m:\u001b[0m \u001b[0mexperiment\u001b[0m\u001b[0;34m(\u001b[0m\u001b[0;34m*\u001b[0m\u001b[0mx\u001b[0m\u001b[0;34m)\u001b[0m\u001b[0;34m,\u001b[0m \u001b[0mp\u001b[0m\u001b[0;34m)\u001b[0m\u001b[0;34m)\u001b[0m\u001b[0;34m\u001b[0m\u001b[0;34m\u001b[0m\u001b[0m\n\u001b[0m\u001b[1;32m      8\u001b[0m \u001b[0;34m\u001b[0m\u001b[0m\n\u001b[1;32m      9\u001b[0m \u001b[0mdf\u001b[0m \u001b[0;34m=\u001b[0m \u001b[0mpd\u001b[0m\u001b[0;34m.\u001b[0m\u001b[0mDataFrame\u001b[0m\u001b[0;34m(\u001b[0m\u001b[0mresults\u001b[0m\u001b[0;34m)\u001b[0m\u001b[0;34m\u001b[0m\u001b[0;34m\u001b[0m\u001b[0m\n",
      "\u001b[0;32m/var/folders/3g/8436y4yj1r9367dvt15y6jqcdx0hcv/T/ipykernel_90482/913445750.py\u001b[0m in \u001b[0;36m<lambda>\u001b[0;34m(x)\u001b[0m\n\u001b[1;32m      5\u001b[0m \u001b[0;34m\u001b[0m\u001b[0m\n\u001b[1;32m      6\u001b[0m \u001b[0mp\u001b[0m \u001b[0;34m=\u001b[0m \u001b[0mitertools\u001b[0m\u001b[0;34m.\u001b[0m\u001b[0mproduct\u001b[0m\u001b[0;34m(\u001b[0m\u001b[0mnum_sim\u001b[0m\u001b[0;34m,\u001b[0m\u001b[0mregression_frac\u001b[0m\u001b[0;34m,\u001b[0m\u001b[0mqmc\u001b[0m\u001b[0;34m,\u001b[0m\u001b[0mrepetitions\u001b[0m\u001b[0;34m)\u001b[0m\u001b[0;34m\u001b[0m\u001b[0;34m\u001b[0m\u001b[0m\n\u001b[0;32m----> 7\u001b[0;31m \u001b[0mresults\u001b[0m \u001b[0;34m=\u001b[0m \u001b[0mlist\u001b[0m\u001b[0;34m(\u001b[0m\u001b[0mmap\u001b[0m\u001b[0;34m(\u001b[0m\u001b[0;32mlambda\u001b[0m \u001b[0mx\u001b[0m\u001b[0;34m:\u001b[0m \u001b[0mexperiment\u001b[0m\u001b[0;34m(\u001b[0m\u001b[0;34m*\u001b[0m\u001b[0mx\u001b[0m\u001b[0;34m)\u001b[0m\u001b[0;34m,\u001b[0m \u001b[0mp\u001b[0m\u001b[0;34m)\u001b[0m\u001b[0;34m)\u001b[0m\u001b[0;34m\u001b[0m\u001b[0;34m\u001b[0m\u001b[0m\n\u001b[0m\u001b[1;32m      8\u001b[0m \u001b[0;34m\u001b[0m\u001b[0m\n\u001b[1;32m      9\u001b[0m \u001b[0mdf\u001b[0m \u001b[0;34m=\u001b[0m \u001b[0mpd\u001b[0m\u001b[0;34m.\u001b[0m\u001b[0mDataFrame\u001b[0m\u001b[0;34m(\u001b[0m\u001b[0mresults\u001b[0m\u001b[0;34m)\u001b[0m\u001b[0;34m\u001b[0m\u001b[0;34m\u001b[0m\u001b[0m\n",
      "\u001b[0;31mTypeError\u001b[0m: experiment() missing 1 required positional argument: 'seed'"
     ]
    }
   ],
   "source": [
    "\n",
    "num_sim = [128] #[128, 512]\n",
    "regression_frac = [0.1, 1.0] #[0.1, 1.0]\n",
    "qmc = [False]\n",
    "repetitions = range(30)\n",
    "\n",
    "p = itertools.product(num_sim,regression_frac,qmc,repetitions)\n",
    "results = list(map(lambda x: experiment(*x), p))\n",
    "\n",
    "df = pd.DataFrame(results)\n",
    "#df"
   ]
  },
  {
   "cell_type": "code",
   "execution_count": 45,
   "metadata": {},
   "outputs": [
    {
     "data": {
      "text/plain": [
       "Text(0.5, 1.0, 'AEP Stdev')"
      ]
     },
     "execution_count": 45,
     "metadata": {},
     "output_type": "execute_result"
    },
    {
     "data": {
      "image/png": "[encoded data removed]",
      "text/plain": [
       "<Figure size 800x300 with 2 Axes>"
      ]
     },
     "metadata": {
      "needs_background": "light"
     },
     "output_type": "display_data"
    }
   ],
   "source": [
    "plt.figure(figsize=(8,3),dpi=100)\n",
    "\n",
    "df[\"regression_frac\"] = df[\"regression_frac\"].astype(\"str\")\n",
    "\n",
    "plt.subplot(1,2,1)\n",
    "sns.histplot(data=df, x=\"AEP mean\", hue=\"regression_frac\")\n",
    "plt.title(\"AEP Mean\")\n",
    "\n",
    "plt.subplot(1,2,2)\n",
    "sns.histplot(data=df, x=\"AEP stdev\", hue=\"regression_frac\")\n",
    "plt.title(\"AEP Stdev\")"
   ]
  },
  {
   "cell_type": "markdown",
   "metadata": {},
   "source": [
    "## Full Cartesian Product"
   ]
  },
  {
   "cell_type": "code",
   "execution_count": 10,
   "metadata": {},
   "outputs": [
    {
     "name": "stderr",
     "output_type": "stream",
     "text": [
      "INFO:project_ENGIE:Loading SCADA data\n",
      "INFO:operational_analysis.types.timeseries_table:Loading name:la-haute-borne-data-2014-2015\n",
      "INFO:project_ENGIE:SCADA data loaded\n",
      "INFO:project_ENGIE:Timestamp QC and conversion to UTC\n",
      "INFO:project_ENGIE:Correcting for out of range of temperature variables\n",
      "INFO:project_ENGIE:Flagging unresponsive sensors\n",
      "INFO:project_ENGIE:Converting field names to IEC 61400-25 standard\n",
      "INFO:operational_analysis.types.timeseries_table:Loading name:plant_data\n",
      "INFO:operational_analysis.types.timeseries_table:Loading name:plant_data\n",
      "INFO:operational_analysis.types.timeseries_table:Loading name:merra2_la_haute_borne\n",
      "INFO:operational_analysis.types.timeseries_table:Loading name:era5_wind_la_haute_borne\n",
      "  0%|          | 0/24 [00:00<?, ?it/s]INFO:operational_analysis.methods.plant_analysis:Initializing MonteCarloAEP Analysis Object\n",
      "INFO:operational_analysis.methods.plant_analysis:Initializing MonteCarloAEP Analysis Object\n",
      "INFO:operational_analysis.methods.plant_analysis:Initializing MonteCarloAEP Analysis Object\n",
      "INFO:operational_analysis.methods.plant_analysis:Initializing MonteCarloAEP Analysis Object\n",
      "INFO:operational_analysis.methods.plant_analysis:Running with parameters: {'uncertainty_meter': 0.005, 'uncertainty_losses': 0.05, 'uncertainty_loss_max': array([10., 20.]), 'uncertainty_windiness': array([10., 20.]), 'uncertainty_nan_energy': 0.01, 'num_sim': 128, 'reanal_subset': ['era5', 'merra2']}\n",
      "INFO:operational_analysis.methods.plant_analysis:Running with parameters: {'uncertainty_meter': 0.005, 'uncertainty_losses': 0.05, 'uncertainty_loss_max': array([10., 20.]), 'uncertainty_windiness': array([10., 20.]), 'uncertainty_nan_energy': 0.01, 'num_sim': 128, 'reanal_subset': ['era5', 'merra2']}\n",
      "INFO:operational_analysis.methods.plant_analysis:Running with parameters: {'uncertainty_meter': 0.005, 'uncertainty_losses': 0.05, 'uncertainty_loss_max': array([10., 20.]), 'uncertainty_windiness': array([10., 20.]), 'uncertainty_nan_energy': 0.01, 'num_sim': 128, 'reanal_subset': ['era5', 'merra2']}\n",
      "INFO:operational_analysis.methods.plant_analysis:Running with parameters: {'uncertainty_meter': 0.005, 'uncertainty_losses': 0.05, 'uncertainty_loss_max': array([10., 20.]), 'uncertainty_windiness': array([10., 20.]), 'uncertainty_nan_energy': 0.01, 'num_sim': 128, 'reanal_subset': ['era5', 'merra2']}\n",
      "100%|██████████| 128/128 [00:01<00:00, 68.98it/s]\n",
      "INFO:operational_analysis.methods.plant_analysis:Run completed\n",
      "  4%|▍         | 1/24 [00:02<00:49,  2.14s/it]INFO:operational_analysis.methods.plant_analysis:Initializing MonteCarloAEP Analysis Object\n",
      "100%|██████████| 128/128 [00:01<00:00, 68.69it/s]\n",
      "INFO:operational_analysis.methods.plant_analysis:Run completed\n",
      "INFO:operational_analysis.methods.plant_analysis:Initializing MonteCarloAEP Analysis Object\n",
      "100%|██████████| 128/128 [00:01<00:00, 68.75it/s]\n",
      "100%|██████████| 128/128 [00:01<00:00, 68.69it/s]INFO:operational_analysis.methods.plant_analysis:Run completed\n",
      "\n",
      "INFO:operational_analysis.methods.plant_analysis:Initializing MonteCarloAEP Analysis Object\n",
      "INFO:operational_analysis.methods.plant_analysis:Run completed\n",
      "INFO:operational_analysis.methods.plant_analysis:Initializing MonteCarloAEP Analysis Object\n",
      "INFO:operational_analysis.methods.plant_analysis:Running with parameters: {'uncertainty_meter': 0.005, 'uncertainty_losses': 0.05, 'uncertainty_loss_max': array([10., 20.]), 'uncertainty_windiness': array([10., 20.]), 'uncertainty_nan_energy': 0.01, 'num_sim': 128, 'reanal_subset': ['era5', 'merra2']}\n",
      "INFO:operational_analysis.methods.plant_analysis:Running with parameters: {'uncertainty_meter': 0.005, 'uncertainty_losses': 0.05, 'uncertainty_loss_max': array([10., 20.]), 'uncertainty_windiness': array([10., 20.]), 'uncertainty_nan_energy': 0.01, 'num_sim': 128, 'reanal_subset': ['era5', 'merra2']}\n",
      "  0%|          | 0/128 [00:00<?, ?it/s]INFO:operational_analysis.methods.plant_analysis:Running with parameters: {'uncertainty_meter': 0.005, 'uncertainty_losses': 0.05, 'uncertainty_loss_max': array([10., 20.]), 'uncertainty_windiness': array([10., 20.]), 'uncertainty_nan_energy': 0.01, 'num_sim': 128, 'reanal_subset': ['era5', 'merra2']}\n",
      "INFO:operational_analysis.methods.plant_analysis:Running with parameters: {'uncertainty_meter': 0.005, 'uncertainty_losses': 0.05, 'uncertainty_loss_max': array([10., 20.]), 'uncertainty_windiness': array([10., 20.]), 'uncertainty_nan_energy': 0.01, 'num_sim': 128, 'reanal_subset': ['era5', 'merra2']}\n",
      "100%|██████████| 128/128 [00:02<00:00, 59.00it/s]\n",
      "INFO:operational_analysis.methods.plant_analysis:Run completed\n",
      " 21%|██        | 5/24 [00:04<00:15,  1.21it/s]INFO:operational_analysis.methods.plant_analysis:Initializing MonteCarloAEP Analysis Object\n",
      "100%|██████████| 128/128 [00:02<00:00, 58.89it/s]\n",
      "INFO:operational_analysis.methods.plant_analysis:Run completed\n",
      "INFO:operational_analysis.methods.plant_analysis:Initializing MonteCarloAEP Analysis Object\n",
      "100%|██████████| 128/128 [00:02<00:00, 59.11it/s]\n",
      "100%|██████████| 128/128 [00:02<00:00, 58.76it/s]INFO:operational_analysis.methods.plant_analysis:Run completed\n",
      "\n",
      "INFO:operational_analysis.methods.plant_analysis:Initializing MonteCarloAEP Analysis Object\n",
      "INFO:operational_analysis.methods.plant_analysis:Run completed\n",
      "INFO:operational_analysis.methods.plant_analysis:Initializing MonteCarloAEP Analysis Object\n",
      "INFO:operational_analysis.methods.plant_analysis:Running with parameters: {'uncertainty_meter': 0.005, 'uncertainty_losses': 0.05, 'uncertainty_loss_max': array([10., 20.]), 'uncertainty_windiness': array([10., 20.]), 'uncertainty_nan_energy': 0.01, 'num_sim': 256, 'reanal_subset': ['era5', 'merra2']}\n",
      "  0%|          | 0/256 [00:00<?, ?it/s]INFO:operational_analysis.methods.plant_analysis:Running with parameters: {'uncertainty_meter': 0.005, 'uncertainty_losses': 0.05, 'uncertainty_loss_max': array([10., 20.]), 'uncertainty_windiness': array([10., 20.]), 'uncertainty_nan_energy': 0.01, 'num_sim': 256, 'reanal_subset': ['era5', 'merra2']}\n",
      "  0%|          | 0/256 [00:00<?, ?it/s]INFO:operational_analysis.methods.plant_analysis:Running with parameters: {'uncertainty_meter': 0.005, 'uncertainty_losses': 0.05, 'uncertainty_loss_max': array([10., 20.]), 'uncertainty_windiness': array([10., 20.]), 'uncertainty_nan_energy': 0.01, 'num_sim': 256, 'reanal_subset': ['era5', 'merra2']}\n",
      "INFO:operational_analysis.methods.plant_analysis:Running with parameters: {'uncertainty_meter': 0.005, 'uncertainty_losses': 0.05, 'uncertainty_loss_max': array([10., 20.]), 'uncertainty_windiness': array([10., 20.]), 'uncertainty_nan_energy': 0.01, 'num_sim': 256, 'reanal_subset': ['era5', 'merra2']}\n",
      "100%|██████████| 256/256 [00:04<00:00, 60.93it/s]\n",
      "INFO:operational_analysis.methods.plant_analysis:Run completed\n",
      " 38%|███▊      | 9/24 [00:08<00:14,  1.02it/s]INFO:operational_analysis.methods.plant_analysis:Initializing MonteCarloAEP Analysis Object\n",
      "100%|██████████| 256/256 [00:04<00:00, 60.84it/s]\n",
      "INFO:operational_analysis.methods.plant_analysis:Run completed\n",
      "INFO:operational_analysis.methods.plant_analysis:Initializing MonteCarloAEP Analysis Object\n",
      "100%|██████████| 256/256 [00:04<00:00, 60.29it/s]\n",
      "INFO:operational_analysis.methods.plant_analysis:Run completed\n",
      "INFO:operational_analysis.methods.plant_analysis:Initializing MonteCarloAEP Analysis Object\n",
      "100%|██████████| 256/256 [00:04<00:00, 59.93it/s]\n",
      "INFO:operational_analysis.methods.plant_analysis:Run completed\n",
      " 50%|█████     | 12/24 [00:09<00:07,  1.59it/s]INFO:operational_analysis.methods.plant_analysis:Initializing MonteCarloAEP Analysis Object\n",
      "INFO:operational_analysis.methods.plant_analysis:Running with parameters: {'uncertainty_meter': 0.005, 'uncertainty_losses': 0.05, 'uncertainty_loss_max': array([10., 20.]), 'uncertainty_windiness': array([10., 20.]), 'uncertainty_nan_energy': 0.01, 'num_sim': 256, 'reanal_subset': ['era5', 'merra2']}\n",
      "INFO:operational_analysis.methods.plant_analysis:Running with parameters: {'uncertainty_meter': 0.005, 'uncertainty_losses': 0.05, 'uncertainty_loss_max': array([10., 20.]), 'uncertainty_windiness': array([10., 20.]), 'uncertainty_nan_energy': 0.01, 'num_sim': 256, 'reanal_subset': ['era5', 'merra2']}\n",
      "  0%|          | 0/256 [00:00<?, ?it/s]INFO:operational_analysis.methods.plant_analysis:Running with parameters: {'uncertainty_meter': 0.005, 'uncertainty_losses': 0.05, 'uncertainty_loss_max': array([10., 20.]), 'uncertainty_windiness': array([10., 20.]), 'uncertainty_nan_energy': 0.01, 'num_sim': 256, 'reanal_subset': ['era5', 'merra2']}\n",
      "  0%|          | 0/256 [00:00<?, ?it/s]INFO:operational_analysis.methods.plant_analysis:Running with parameters: {'uncertainty_meter': 0.005, 'uncertainty_losses': 0.05, 'uncertainty_loss_max': array([10., 20.]), 'uncertainty_windiness': array([10., 20.]), 'uncertainty_nan_energy': 0.01, 'num_sim': 256, 'reanal_subset': ['era5', 'merra2']}\n",
      "100%|██████████| 256/256 [00:03<00:00, 66.04it/s]\n",
      "100%|██████████| 256/256 [00:03<00:00, 66.09it/s]INFO:operational_analysis.methods.plant_analysis:Run completed\n",
      "\n",
      "INFO:operational_analysis.methods.plant_analysis:Initializing MonteCarloAEP Analysis Object\n",
      "INFO:operational_analysis.methods.plant_analysis:Run completed\n",
      " 58%|█████▊    | 14/24 [00:13<00:09,  1.01it/s]INFO:operational_analysis.methods.plant_analysis:Initializing MonteCarloAEP Analysis Object\n",
      "100%|██████████| 256/256 [00:03<00:00, 66.34it/s]\n",
      "INFO:operational_analysis.methods.plant_analysis:Run completed\n",
      "INFO:operational_analysis.methods.plant_analysis:Initializing MonteCarloAEP Analysis Object\n",
      "100%|██████████| 256/256 [00:03<00:00, 66.45it/s]\n",
      "INFO:operational_analysis.methods.plant_analysis:Run completed\n",
      "INFO:operational_analysis.methods.plant_analysis:Initializing MonteCarloAEP Analysis Object\n",
      "INFO:operational_analysis.methods.plant_analysis:Running with parameters: {'uncertainty_meter': 0.005, 'uncertainty_losses': 0.05, 'uncertainty_loss_max': array([10., 20.]), 'uncertainty_windiness': array([10., 20.]), 'uncertainty_nan_energy': 0.01, 'num_sim': 512, 'reanal_subset': ['era5', 'merra2']}\n",
      "INFO:operational_analysis.methods.plant_analysis:Running with parameters: {'uncertainty_meter': 0.005, 'uncertainty_losses': 0.05, 'uncertainty_loss_max': array([10., 20.]), 'uncertainty_windiness': array([10., 20.]), 'uncertainty_nan_energy': 0.01, 'num_sim': 512, 'reanal_subset': ['era5', 'merra2']}\n",
      "  0%|          | 0/512 [00:00<?, ?it/s]INFO:operational_analysis.methods.plant_analysis:Running with parameters: {'uncertainty_meter': 0.005, 'uncertainty_losses': 0.05, 'uncertainty_loss_max': array([10., 20.]), 'uncertainty_windiness': array([10., 20.]), 'uncertainty_nan_energy': 0.01, 'num_sim': 512, 'reanal_subset': ['era5', 'merra2']}\n",
      "  0%|          | 0/512 [00:00<?, ?it/s]INFO:operational_analysis.methods.plant_analysis:Running with parameters: {'uncertainty_meter': 0.005, 'uncertainty_losses': 0.05, 'uncertainty_loss_max': array([10., 20.]), 'uncertainty_windiness': array([10., 20.]), 'uncertainty_nan_energy': 0.01, 'num_sim': 512, 'reanal_subset': ['era5', 'merra2']}\n",
      "100%|██████████| 512/512 [00:06<00:00, 79.34it/s]\n",
      "INFO:operational_analysis.methods.plant_analysis:Run completed\n",
      " 71%|███████   | 17/24 [00:19<00:09,  1.43s/it]INFO:operational_analysis.methods.plant_analysis:Initializing MonteCarloAEP Analysis Object\n",
      "100%|██████████| 512/512 [00:06<00:00, 78.82it/s]\n",
      "INFO:operational_analysis.methods.plant_analysis:Run completed\n",
      "INFO:operational_analysis.methods.plant_analysis:Initializing MonteCarloAEP Analysis Object\n",
      "100%|██████████| 512/512 [00:06<00:00, 79.02it/s]\n",
      "INFO:operational_analysis.methods.plant_analysis:Run completed\n",
      "INFO:operational_analysis.methods.plant_analysis:Initializing MonteCarloAEP Analysis Object\n",
      "100%|██████████| 512/512 [00:06<00:00, 79.01it/s]\n",
      "INFO:operational_analysis.methods.plant_analysis:Run completed\n",
      "INFO:operational_analysis.methods.plant_analysis:Initializing MonteCarloAEP Analysis Object\n",
      "INFO:operational_analysis.methods.plant_analysis:Running with parameters: {'uncertainty_meter': 0.005, 'uncertainty_losses': 0.05, 'uncertainty_loss_max': array([10., 20.]), 'uncertainty_windiness': array([10., 20.]), 'uncertainty_nan_energy': 0.01, 'num_sim': 512, 'reanal_subset': ['era5', 'merra2']}\n",
      "  0%|          | 0/512 [00:00<?, ?it/s]INFO:operational_analysis.methods.plant_analysis:Running with parameters: {'uncertainty_meter': 0.005, 'uncertainty_losses': 0.05, 'uncertainty_loss_max': array([10., 20.]), 'uncertainty_windiness': array([10., 20.]), 'uncertainty_nan_energy': 0.01, 'num_sim': 512, 'reanal_subset': ['era5', 'merra2']}\n",
      "  0%|          | 0/512 [00:00<?, ?it/s]INFO:operational_analysis.methods.plant_analysis:Running with parameters: {'uncertainty_meter': 0.005, 'uncertainty_losses': 0.05, 'uncertainty_loss_max': array([10., 20.]), 'uncertainty_windiness': array([10., 20.]), 'uncertainty_nan_energy': 0.01, 'num_sim': 512, 'reanal_subset': ['era5', 'merra2']}\n",
      "  0%|          | 0/512 [00:00<?, ?it/s]INFO:operational_analysis.methods.plant_analysis:Running with parameters: {'uncertainty_meter': 0.005, 'uncertainty_losses': 0.05, 'uncertainty_loss_max': array([10., 20.]), 'uncertainty_windiness': array([10., 20.]), 'uncertainty_nan_energy': 0.01, 'num_sim': 512, 'reanal_subset': ['era5', 'merra2']}\n",
      "100%|██████████| 512/512 [00:06<00:00, 78.62it/s]\n",
      " 99%|█████████▉| 509/512 [00:06<00:00, 83.30it/s]INFO:operational_analysis.methods.plant_analysis:Run completed\n",
      "100%|██████████| 512/512 [00:06<00:00, 78.97it/s]\n",
      "INFO:operational_analysis.methods.plant_analysis:Run completed\n",
      "100%|██████████| 512/512 [00:06<00:00, 78.53it/s]\n",
      "100%|█████████▉| 511/512 [00:06<00:00, 82.35it/s]INFO:operational_analysis.methods.plant_analysis:Run completed\n",
      "100%|██████████| 512/512 [00:06<00:00, 78.90it/s]\n",
      "INFO:operational_analysis.methods.plant_analysis:Run completed\n",
      "100%|██████████| 24/24 [00:26<00:00,  1.10s/it]\n"
     ]
    }
   ],
   "source": [
    "\n",
    "project = Project_Engie('./OpenOA/examples/data/la_haute_borne')\n",
    "project.prepare()\n",
    "\n",
    "num_sim = [128,256,512]\n",
    "regression_frac = [0.5, 1.0] #[0.1, 1.0]\n",
    "qmc = [False, True]\n",
    "repetitions = range(2)\n",
    "\n",
    "experiment_configs = list(itertools.product(num_sim,regression_frac,qmc,repetitions))\n",
    "\n",
    "def run_experiment(x):\n",
    "    return experiment(*x)\n",
    "\n",
    "with Pool(4) as p:\n",
    "    results = list(tqdm.tqdm(p.imap_unordered(run_experiment, experiment_configs), total=len(experiment_configs)))\n",
    "\n",
    "#results = itertools.chain(*results)\n",
    "#df"
   ]
  },
  {
   "cell_type": "code",
   "execution_count": 11,
   "metadata": {},
   "outputs": [
    {
     "data": {
      "text/plain": [
       "[{'num_sim': 128,\n",
       "  'regression_frac': 0.5,\n",
       "  'qmc': False,\n",
       "  'repetition': 1,\n",
       "  'time': 2.142662590999862,\n",
       "  'AEP mean': 12.366266948027846,\n",
       "  'AEP stdev': 1.0305229726132947},\n",
       " {'num_sim': 128,\n",
       "  'regression_frac': 0.5,\n",
       "  'qmc': False,\n",
       "  'repetition': 0,\n",
       "  'time': 2.153692824000018,\n",
       "  'AEP mean': 12.366266948027846,\n",
       "  'AEP stdev': 1.0305229726132947},\n",
       " {'num_sim': 128,\n",
       "  'regression_frac': 0.5,\n",
       "  'qmc': True,\n",
       "  'repetition': 0,\n",
       "  'time': 2.1719802800000707,\n",
       "  'AEP mean': 12.326553379749589,\n",
       "  'AEP stdev': 1.4153929225703434},\n",
       " {'num_sim': 128,\n",
       "  'regression_frac': 0.5,\n",
       "  'qmc': True,\n",
       "  'repetition': 1,\n",
       "  'time': 2.1749954360000174,\n",
       "  'AEP mean': 12.317361158332663,\n",
       "  'AEP stdev': 1.314907534233867},\n",
       " {'num_sim': 128,\n",
       "  'regression_frac': 1.0,\n",
       "  'qmc': False,\n",
       "  'repetition': 0,\n",
       "  'time': 2.3901782810000896,\n",
       "  'AEP mean': 12.354642718237324,\n",
       "  'AEP stdev': 1.1242201753576908},\n",
       " {'num_sim': 128,\n",
       "  'regression_frac': 1.0,\n",
       "  'qmc': False,\n",
       "  'repetition': 1,\n",
       "  'time': 2.397169399000177,\n",
       "  'AEP mean': 12.354642718237324,\n",
       "  'AEP stdev': 1.1242201753576908},\n",
       " {'num_sim': 128,\n",
       "  'regression_frac': 1.0,\n",
       "  'qmc': True,\n",
       "  'repetition': 1,\n",
       "  'time': 2.3920800149999195,\n",
       "  'AEP mean': 12.280697991593883,\n",
       "  'AEP stdev': 1.4682380437386495},\n",
       " {'num_sim': 128,\n",
       "  'regression_frac': 1.0,\n",
       "  'qmc': True,\n",
       "  'repetition': 0,\n",
       "  'time': 2.403176196000004,\n",
       "  'AEP mean': 12.286622912144534,\n",
       "  'AEP stdev': 1.4817307252716965},\n",
       " {'num_sim': 256,\n",
       "  'regression_frac': 0.5,\n",
       "  'qmc': False,\n",
       "  'repetition': 0,\n",
       "  'time': 4.417402080999864,\n",
       "  'AEP mean': 12.276733682649182,\n",
       "  'AEP stdev': 1.200643018293695},\n",
       " {'num_sim': 256,\n",
       "  'regression_frac': 0.5,\n",
       "  'qmc': False,\n",
       "  'repetition': 1,\n",
       "  'time': 4.41555457100003,\n",
       "  'AEP mean': 12.276733682649182,\n",
       "  'AEP stdev': 1.200643018293695},\n",
       " {'num_sim': 256,\n",
       "  'regression_frac': 0.5,\n",
       "  'qmc': True,\n",
       "  'repetition': 1,\n",
       "  'time': 4.451978690000033,\n",
       "  'AEP mean': 12.320317885100351,\n",
       "  'AEP stdev': 1.3688240440839825},\n",
       " {'num_sim': 256,\n",
       "  'regression_frac': 0.5,\n",
       "  'qmc': True,\n",
       "  'repetition': 0,\n",
       "  'time': 4.485679670999843,\n",
       "  'AEP mean': 12.312386177361146,\n",
       "  'AEP stdev': 1.2988927696209875},\n",
       " {'num_sim': 256,\n",
       "  'regression_frac': 1.0,\n",
       "  'qmc': False,\n",
       "  'repetition': 0,\n",
       "  'time': 4.096947031000127,\n",
       "  'AEP mean': 12.367336475159044,\n",
       "  'AEP stdev': 1.0756459252356747},\n",
       " {'num_sim': 256,\n",
       "  'regression_frac': 1.0,\n",
       "  'qmc': False,\n",
       "  'repetition': 1,\n",
       "  'time': 4.084426736000069,\n",
       "  'AEP mean': 12.367336475159044,\n",
       "  'AEP stdev': 1.0756459252356747},\n",
       " {'num_sim': 256,\n",
       "  'regression_frac': 1.0,\n",
       "  'qmc': True,\n",
       "  'repetition': 0,\n",
       "  'time': 4.053117978000046,\n",
       "  'AEP mean': 12.326026573313056,\n",
       "  'AEP stdev': 1.355388982062353},\n",
       " {'num_sim': 256,\n",
       "  'regression_frac': 1.0,\n",
       "  'qmc': True,\n",
       "  'repetition': 1,\n",
       "  'time': 4.057670569000038,\n",
       "  'AEP mean': 12.336703504355253,\n",
       "  'AEP stdev': 1.4545161424255528},\n",
       " {'num_sim': 512,\n",
       "  'regression_frac': 0.5,\n",
       "  'qmc': False,\n",
       "  'repetition': 1,\n",
       "  'time': 6.628814422999994,\n",
       "  'AEP mean': 12.352354928505314,\n",
       "  'AEP stdev': 1.1153454692068505},\n",
       " {'num_sim': 512,\n",
       "  'regression_frac': 0.5,\n",
       "  'qmc': False,\n",
       "  'repetition': 0,\n",
       "  'time': 6.673266642999806,\n",
       "  'AEP mean': 12.352354928505314,\n",
       "  'AEP stdev': 1.1153454692068505},\n",
       " {'num_sim': 512,\n",
       "  'regression_frac': 0.5,\n",
       "  'qmc': True,\n",
       "  'repetition': 0,\n",
       "  'time': 6.656438124000033,\n",
       "  'AEP mean': 12.310640649604593,\n",
       "  'AEP stdev': 1.398341845017443},\n",
       " {'num_sim': 512,\n",
       "  'regression_frac': 0.5,\n",
       "  'qmc': True,\n",
       "  'repetition': 1,\n",
       "  'time': 6.655293806999907,\n",
       "  'AEP mean': 12.312279431547,\n",
       "  'AEP stdev': 1.406420753302271},\n",
       " {'num_sim': 512,\n",
       "  'regression_frac': 1.0,\n",
       "  'qmc': False,\n",
       "  'repetition': 0,\n",
       "  'time': 6.69416903299998,\n",
       "  'AEP mean': 12.268736333914795,\n",
       "  'AEP stdev': 1.0909267370973028},\n",
       " {'num_sim': 512,\n",
       "  'regression_frac': 1.0,\n",
       "  'qmc': True,\n",
       "  'repetition': 0,\n",
       "  'time': 6.662847531000125,\n",
       "  'AEP mean': 12.355273266247949,\n",
       "  'AEP stdev': 1.4299132503115108},\n",
       " {'num_sim': 512,\n",
       "  'regression_frac': 1.0,\n",
       "  'qmc': False,\n",
       "  'repetition': 1,\n",
       "  'time': 6.694022636999989,\n",
       "  'AEP mean': 12.268736333914795,\n",
       "  'AEP stdev': 1.0909267370973028},\n",
       " {'num_sim': 512,\n",
       "  'regression_frac': 1.0,\n",
       "  'qmc': True,\n",
       "  'repetition': 1,\n",
       "  'time': 6.663315166000075,\n",
       "  'AEP mean': 12.350502783474905,\n",
       "  'AEP stdev': 1.4077644647976155}]"
      ]
     },
     "execution_count": 11,
     "metadata": {},
     "output_type": "execute_result"
    }
   ],
   "source": [
    "out = list(results)\n",
    "out"
   ]
  },
  {
   "cell_type": "code",
   "execution_count": 12,
   "metadata": {},
   "outputs": [],
   "source": [
    "df = pd.DataFrame(out)"
   ]
  },
  {
   "cell_type": "code",
   "execution_count": 13,
   "metadata": {},
   "outputs": [
    {
     "data": {
      "text/html": [
       "<div>\n",
       "<style scoped>\n",
       "    .dataframe tbody tr th:only-of-type {\n",
       "        vertical-align: middle;\n",
       "    }\n",
       "\n",
       "    .dataframe tbody tr th {\n",
       "        vertical-align: top;\n",
       "    }\n",
       "\n",
       "    .dataframe thead th {\n",
       "        text-align: right;\n",
       "    }\n",
       "</style>\n",
       "<table border=\"1\" class=\"dataframe\">\n",
       "  <thead>\n",
       "    <tr style=\"text-align: right;\">\n",
       "      <th></th>\n",
       "      <th>num_sim</th>\n",
       "      <th>regression_frac</th>\n",
       "      <th>qmc</th>\n",
       "      <th>repetition</th>\n",
       "      <th>time</th>\n",
       "      <th>AEP mean</th>\n",
       "      <th>AEP stdev</th>\n",
       "    </tr>\n",
       "  </thead>\n",
       "  <tbody>\n",
       "    <tr>\n",
       "      <th>0</th>\n",
       "      <td>128</td>\n",
       "      <td>0.5</td>\n",
       "      <td>False</td>\n",
       "      <td>1</td>\n",
       "      <td>2.142663</td>\n",
       "      <td>12.366267</td>\n",
       "      <td>1.030523</td>\n",
       "    </tr>\n",
       "    <tr>\n",
       "      <th>1</th>\n",
       "      <td>128</td>\n",
       "      <td>0.5</td>\n",
       "      <td>False</td>\n",
       "      <td>0</td>\n",
       "      <td>2.153693</td>\n",
       "      <td>12.366267</td>\n",
       "      <td>1.030523</td>\n",
       "    </tr>\n",
       "    <tr>\n",
       "      <th>2</th>\n",
       "      <td>128</td>\n",
       "      <td>0.5</td>\n",
       "      <td>True</td>\n",
       "      <td>0</td>\n",
       "      <td>2.171980</td>\n",
       "      <td>12.326553</td>\n",
       "      <td>1.415393</td>\n",
       "    </tr>\n",
       "    <tr>\n",
       "      <th>3</th>\n",
       "      <td>128</td>\n",
       "      <td>0.5</td>\n",
       "      <td>True</td>\n",
       "      <td>1</td>\n",
       "      <td>2.174995</td>\n",
       "      <td>12.317361</td>\n",
       "      <td>1.314908</td>\n",
       "    </tr>\n",
       "    <tr>\n",
       "      <th>4</th>\n",
       "      <td>128</td>\n",
       "      <td>1.0</td>\n",
       "      <td>False</td>\n",
       "      <td>0</td>\n",
       "      <td>2.390178</td>\n",
       "      <td>12.354643</td>\n",
       "      <td>1.124220</td>\n",
       "    </tr>\n",
       "    <tr>\n",
       "      <th>5</th>\n",
       "      <td>128</td>\n",
       "      <td>1.0</td>\n",
       "      <td>False</td>\n",
       "      <td>1</td>\n",
       "      <td>2.397169</td>\n",
       "      <td>12.354643</td>\n",
       "      <td>1.124220</td>\n",
       "    </tr>\n",
       "    <tr>\n",
       "      <th>6</th>\n",
       "      <td>128</td>\n",
       "      <td>1.0</td>\n",
       "      <td>True</td>\n",
       "      <td>1</td>\n",
       "      <td>2.392080</td>\n",
       "      <td>12.280698</td>\n",
       "      <td>1.468238</td>\n",
       "    </tr>\n",
       "    <tr>\n",
       "      <th>7</th>\n",
       "      <td>128</td>\n",
       "      <td>1.0</td>\n",
       "      <td>True</td>\n",
       "      <td>0</td>\n",
       "      <td>2.403176</td>\n",
       "      <td>12.286623</td>\n",
       "      <td>1.481731</td>\n",
       "    </tr>\n",
       "    <tr>\n",
       "      <th>8</th>\n",
       "      <td>256</td>\n",
       "      <td>0.5</td>\n",
       "      <td>False</td>\n",
       "      <td>0</td>\n",
       "      <td>4.417402</td>\n",
       "      <td>12.276734</td>\n",
       "      <td>1.200643</td>\n",
       "    </tr>\n",
       "    <tr>\n",
       "      <th>9</th>\n",
       "      <td>256</td>\n",
       "      <td>0.5</td>\n",
       "      <td>False</td>\n",
       "      <td>1</td>\n",
       "      <td>4.415555</td>\n",
       "      <td>12.276734</td>\n",
       "      <td>1.200643</td>\n",
       "    </tr>\n",
       "    <tr>\n",
       "      <th>10</th>\n",
       "      <td>256</td>\n",
       "      <td>0.5</td>\n",
       "      <td>True</td>\n",
       "      <td>1</td>\n",
       "      <td>4.451979</td>\n",
       "      <td>12.320318</td>\n",
       "      <td>1.368824</td>\n",
       "    </tr>\n",
       "    <tr>\n",
       "      <th>11</th>\n",
       "      <td>256</td>\n",
       "      <td>0.5</td>\n",
       "      <td>True</td>\n",
       "      <td>0</td>\n",
       "      <td>4.485680</td>\n",
       "      <td>12.312386</td>\n",
       "      <td>1.298893</td>\n",
       "    </tr>\n",
       "    <tr>\n",
       "      <th>12</th>\n",
       "      <td>256</td>\n",
       "      <td>1.0</td>\n",
       "      <td>False</td>\n",
       "      <td>0</td>\n",
       "      <td>4.096947</td>\n",
       "      <td>12.367336</td>\n",
       "      <td>1.075646</td>\n",
       "    </tr>\n",
       "    <tr>\n",
       "      <th>13</th>\n",
       "      <td>256</td>\n",
       "      <td>1.0</td>\n",
       "      <td>False</td>\n",
       "      <td>1</td>\n",
       "      <td>4.084427</td>\n",
       "      <td>12.367336</td>\n",
       "      <td>1.075646</td>\n",
       "    </tr>\n",
       "    <tr>\n",
       "      <th>14</th>\n",
       "      <td>256</td>\n",
       "      <td>1.0</td>\n",
       "      <td>True</td>\n",
       "      <td>0</td>\n",
       "      <td>4.053118</td>\n",
       "      <td>12.326027</td>\n",
       "      <td>1.355389</td>\n",
       "    </tr>\n",
       "    <tr>\n",
       "      <th>15</th>\n",
       "      <td>256</td>\n",
       "      <td>1.0</td>\n",
       "      <td>True</td>\n",
       "      <td>1</td>\n",
       "      <td>4.057671</td>\n",
       "      <td>12.336704</td>\n",
       "      <td>1.454516</td>\n",
       "    </tr>\n",
       "    <tr>\n",
       "      <th>16</th>\n",
       "      <td>512</td>\n",
       "      <td>0.5</td>\n",
       "      <td>False</td>\n",
       "      <td>1</td>\n",
       "      <td>6.628814</td>\n",
       "      <td>12.352355</td>\n",
       "      <td>1.115345</td>\n",
       "    </tr>\n",
       "    <tr>\n",
       "      <th>17</th>\n",
       "      <td>512</td>\n",
       "      <td>0.5</td>\n",
       "      <td>False</td>\n",
       "      <td>0</td>\n",
       "      <td>6.673267</td>\n",
       "      <td>12.352355</td>\n",
       "      <td>1.115345</td>\n",
       "    </tr>\n",
       "    <tr>\n",
       "      <th>18</th>\n",
       "      <td>512</td>\n",
       "      <td>0.5</td>\n",
       "      <td>True</td>\n",
       "      <td>0</td>\n",
       "      <td>6.656438</td>\n",
       "      <td>12.310641</td>\n",
       "      <td>1.398342</td>\n",
       "    </tr>\n",
       "    <tr>\n",
       "      <th>19</th>\n",
       "      <td>512</td>\n",
       "      <td>0.5</td>\n",
       "      <td>True</td>\n",
       "      <td>1</td>\n",
       "      <td>6.655294</td>\n",
       "      <td>12.312279</td>\n",
       "      <td>1.406421</td>\n",
       "    </tr>\n",
       "    <tr>\n",
       "      <th>20</th>\n",
       "      <td>512</td>\n",
       "      <td>1.0</td>\n",
       "      <td>False</td>\n",
       "      <td>0</td>\n",
       "      <td>6.694169</td>\n",
       "      <td>12.268736</td>\n",
       "      <td>1.090927</td>\n",
       "    </tr>\n",
       "    <tr>\n",
       "      <th>21</th>\n",
       "      <td>512</td>\n",
       "      <td>1.0</td>\n",
       "      <td>True</td>\n",
       "      <td>0</td>\n",
       "      <td>6.662848</td>\n",
       "      <td>12.355273</td>\n",
       "      <td>1.429913</td>\n",
       "    </tr>\n",
       "    <tr>\n",
       "      <th>22</th>\n",
       "      <td>512</td>\n",
       "      <td>1.0</td>\n",
       "      <td>False</td>\n",
       "      <td>1</td>\n",
       "      <td>6.694023</td>\n",
       "      <td>12.268736</td>\n",
       "      <td>1.090927</td>\n",
       "    </tr>\n",
       "    <tr>\n",
       "      <th>23</th>\n",
       "      <td>512</td>\n",
       "      <td>1.0</td>\n",
       "      <td>True</td>\n",
       "      <td>1</td>\n",
       "      <td>6.663315</td>\n",
       "      <td>12.350503</td>\n",
       "      <td>1.407764</td>\n",
       "    </tr>\n",
       "  </tbody>\n",
       "</table>\n",
       "</div>"
      ],
      "text/plain": [
       "    num_sim  regression_frac    qmc  repetition      time   AEP mean  \\\n",
       "0       128              0.5  False           1  2.142663  12.366267   \n",
       "1       128              0.5  False           0  2.153693  12.366267   \n",
       "2       128              0.5   True           0  2.171980  12.326553   \n",
       "3       128              0.5   True           1  2.174995  12.317361   \n",
       "4       128              1.0  False           0  2.390178  12.354643   \n",
       "5       128              1.0  False           1  2.397169  12.354643   \n",
       "6       128              1.0   True           1  2.392080  12.280698   \n",
       "7       128              1.0   True           0  2.403176  12.286623   \n",
       "8       256              0.5  False           0  4.417402  12.276734   \n",
       "9       256              0.5  False           1  4.415555  12.276734   \n",
       "10      256              0.5   True           1  4.451979  12.320318   \n",
       "11      256              0.5   True           0  4.485680  12.312386   \n",
       "12      256              1.0  False           0  4.096947  12.367336   \n",
       "13      256              1.0  False           1  4.084427  12.367336   \n",
       "14      256              1.0   True           0  4.053118  12.326027   \n",
       "15      256              1.0   True           1  4.057671  12.336704   \n",
       "16      512              0.5  False           1  6.628814  12.352355   \n",
       "17      512              0.5  False           0  6.673267  12.352355   \n",
       "18      512              0.5   True           0  6.656438  12.310641   \n",
       "19      512              0.5   True           1  6.655294  12.312279   \n",
       "20      512              1.0  False           0  6.694169  12.268736   \n",
       "21      512              1.0   True           0  6.662848  12.355273   \n",
       "22      512              1.0  False           1  6.694023  12.268736   \n",
       "23      512              1.0   True           1  6.663315  12.350503   \n",
       "\n",
       "    AEP stdev  \n",
       "0    1.030523  \n",
       "1    1.030523  \n",
       "2    1.415393  \n",
       "3    1.314908  \n",
       "4    1.124220  \n",
       "5    1.124220  \n",
       "6    1.468238  \n",
       "7    1.481731  \n",
       "8    1.200643  \n",
       "9    1.200643  \n",
       "10   1.368824  \n",
       "11   1.298893  \n",
       "12   1.075646  \n",
       "13   1.075646  \n",
       "14   1.355389  \n",
       "15   1.454516  \n",
       "16   1.115345  \n",
       "17   1.115345  \n",
       "18   1.398342  \n",
       "19   1.406421  \n",
       "20   1.090927  \n",
       "21   1.429913  \n",
       "22   1.090927  \n",
       "23   1.407764  "
      ]
     },
     "execution_count": 13,
     "metadata": {},
     "output_type": "execute_result"
    }
   ],
   "source": [
    "df"
   ]
  },
  {
   "cell_type": "code",
   "execution_count": null,
   "metadata": {},
   "outputs": [],
   "source": []
  }
 ],
 "metadata": {
  "interpreter": {
   "hash": "2739bab8a45a7399ddf8978703b03c3f3e52411d910953e7fb98803a2a87f23c"
  },
  "kernelspec": {
   "display_name": "Python 3.7.9 64-bit ('base': conda)",
   "language": "python",
   "name": "python3"
  },
  "language_info": {
   "codemirror_mode": {
    "name": "ipython",
    "version": 3
   },
   "file_extension": ".py",
   "mimetype": "text/x-python",
   "name": "python",
   "nbconvert_exporter": "python",
   "pygments_lexer": "ipython3",
   "version": "3.7.9"
  },
  "orig_nbformat": 4
 },
 "nbformat": 4,
 "nbformat_minor": 2
}
